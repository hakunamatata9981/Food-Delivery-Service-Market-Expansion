{
 "cells": [
  {
   "cell_type": "markdown",
   "metadata": {},
   "source": [
    "## Solutions: \n",
    "* Come up with a plan to grow the market by 20% in two months."
   ]
  },
  {
   "cell_type": "markdown",
   "metadata": {},
   "source": [
    "## 0. Import all the toolboxes needed"
   ]
  },
  {
   "cell_type": "code",
   "execution_count": 1,
   "metadata": {},
   "outputs": [],
   "source": [
    "import numpy as np\n",
    "import pandas as pd\n",
    "import matplotlib.pyplot as plt\n",
    "import seaborn as sns\n",
    "from haversine import haversine_vector, haversine, Unit\n",
    "import statistics as statis\n",
    "from matplotlib.ticker import PercentFormatter\n",
    "from scipy import stats\n",
    "import random\n",
    "\n",
    "from sklearn.preprocessing import StandardScaler\n",
    "sc = StandardScaler()\n",
    "from sklearn import preprocessing\n",
    "plt.rc(\"font\", size=14)\n",
    "from sklearn.model_selection import train_test_split\n",
    "from sklearn.metrics import f1_score\n",
    "from sklearn.metrics import confusion_matrix\n",
    "from sklearn.model_selection import cross_val_score\n",
    "from sklearn.metrics import classification_report\n",
    "from sklearn.model_selection import GridSearchCV\n",
    "from sklearn.metrics import accuracy_score\n",
    "\n",
    "import warnings\n",
    "warnings.filterwarnings('ignore')\n",
    "\n",
    "import datetime\n",
    "from datetime import timedelta\n",
    "\n",
    "\n",
    "sns.set()"
   ]
  },
  {
   "cell_type": "code",
   "execution_count": null,
   "metadata": {},
   "outputs": [],
   "source": [
    "\n",
    "\n",
    "POPULAR RESTARANT CLUSTER(N) 100 ORDER PER DAY\n",
    "POPULAR RESTAUNT CLUSTER(E)  10 DO WE HAVE TO PROVIDE THE SERVICE?\n",
    "IF "
   ]
  },
  {
   "cell_type": "markdown",
   "metadata": {},
   "source": [
    "## 1. Import data & encoding for ML"
   ]
  },
  {
   "cell_type": "code",
   "execution_count": 2,
   "metadata": {},
   "outputs": [],
   "source": [
    "j1 = pd.read_csv('data/j_ana.csv')"
   ]
  },
  {
   "cell_type": "code",
   "execution_count": 3,
   "metadata": {
    "scrolled": false
   },
   "outputs": [
    {
     "name": "stdout",
     "output_type": "stream",
     "text": [
      "<class 'pandas.core.frame.DataFrame'>\n",
      "RangeIndex: 4646 entries, 0 to 4645\n",
      "Data columns (total 27 columns):\n",
      "delivery_id                             4646 non-null int64\n",
      "customer_id                             4646 non-null int64\n",
      "jumpman_id                              4646 non-null int64\n",
      "vehicle_type                            4646 non-null object\n",
      "pickup_place                            4646 non-null object\n",
      "place_category                          4646 non-null object\n",
      "item_quantity                           4646 non-null float64\n",
      "item_category_name                      4646 non-null object\n",
      "how_long_it_took_to_order               4646 non-null float64\n",
      "pickup_lat                              4646 non-null float64\n",
      "pickup_lon                              4646 non-null float64\n",
      "dropoff_lat                             4646 non-null float64\n",
      "dropoff_lon                             4646 non-null float64\n",
      "when_the_delivery_started               4646 non-null object\n",
      "when_the_Jumpman_arrived_at_pickup      4646 non-null object\n",
      "when_the_Jumpman_left_pickup            4646 non-null object\n",
      "when_the_Jumpman_arrived_at_dropoff     4646 non-null object\n",
      "distance                                4646 non-null float64\n",
      "time_for_Jumpman_to_arrive_at_pickup    4646 non-null float64\n",
      "Jumpman_waiting_time                    4646 non-null float64\n",
      "time_for_delivery                       4646 non-null float64\n",
      "extra_food_prep_time                    4646 non-null float64\n",
      "customer_waiting_time                   4646 non-null float64\n",
      "Jumpman_speed                           4646 non-null float64\n",
      "loyal_customer                          4646 non-null int64\n",
      "customer_order_freq                     4646 non-null int64\n",
      "meal                                    4646 non-null object\n",
      "dtypes: float64(13), int64(5), object(9)\n",
      "memory usage: 980.1+ KB\n"
     ]
    }
   ],
   "source": [
    "j1.info()"
   ]
  },
  {
   "cell_type": "code",
   "execution_count": 4,
   "metadata": {},
   "outputs": [
    {
     "data": {
      "text/plain": [
       "Index(['delivery_id', 'customer_id', 'jumpman_id', 'vehicle_type',\n",
       "       'pickup_place', 'place_category', 'item_quantity', 'item_category_name',\n",
       "       'how_long_it_took_to_order', 'pickup_lat', 'pickup_lon', 'dropoff_lat',\n",
       "       'dropoff_lon', 'when_the_delivery_started',\n",
       "       'when_the_Jumpman_arrived_at_pickup', 'when_the_Jumpman_left_pickup',\n",
       "       'when_the_Jumpman_arrived_at_dropoff', 'distance',\n",
       "       'time_for_Jumpman_to_arrive_at_pickup', 'Jumpman_waiting_time',\n",
       "       'time_for_delivery', 'extra_food_prep_time', 'customer_waiting_time',\n",
       "       'Jumpman_speed', 'loyal_customer', 'customer_order_freq', 'meal'],\n",
       "      dtype='object')"
      ]
     },
     "execution_count": 4,
     "metadata": {},
     "output_type": "execute_result"
    }
   ],
   "source": [
    "j1.columns"
   ]
  },
  {
   "cell_type": "markdown",
   "metadata": {},
   "source": [
    "jumpman_id, customer_id, customer_order_freq, location and timestamp need to be drop or it will highly affect the predictoin results"
   ]
  },
  {
   "cell_type": "code",
   "execution_count": 5,
   "metadata": {},
   "outputs": [],
   "source": [
    "# location not included\n",
    "j1_drop_1 = j1[['item_quantity', 'how_long_it_took_to_order','distance',\n",
    "       'time_for_Jumpman_to_arrive_at_pickup', 'Jumpman_waiting_time',\n",
    "       'time_for_delivery', 'extra_food_prep_time', 'customer_waiting_time',\n",
    "       'Jumpman_speed', 'loyal_customer']]\n",
    "\n",
    "\n",
    "# Include everything like turn the time 15:00:18 into str(150018)\n",
    "# j1_drop_3 = EXTRA FEATURE -- DAY OF THE MONTH, DAY OF THE WEEK, WEEK NUMBER OF THE MONTH, DAY OF THE YEAR \n",
    "# WEEK DAY , WEEKEND"
   ]
  },
  {
   "cell_type": "markdown",
   "metadata": {},
   "source": [
    "#### Label encoding"
   ]
  },
  {
   "cell_type": "code",
   "execution_count": 6,
   "metadata": {},
   "outputs": [
    {
     "name": "stdout",
     "output_type": "stream",
     "text": [
      "<class 'pandas.core.frame.DataFrame'>\n",
      "RangeIndex: 4646 entries, 0 to 4645\n",
      "Data columns (total 15 columns):\n",
      "item_quantity                           4646 non-null float64\n",
      "how_long_it_took_to_order               4646 non-null float64\n",
      "distance                                4646 non-null float64\n",
      "time_for_Jumpman_to_arrive_at_pickup    4646 non-null float64\n",
      "Jumpman_waiting_time                    4646 non-null float64\n",
      "time_for_delivery                       4646 non-null float64\n",
      "extra_food_prep_time                    4646 non-null float64\n",
      "customer_waiting_time                   4646 non-null float64\n",
      "Jumpman_speed                           4646 non-null float64\n",
      "loyal_customer                          4646 non-null int64\n",
      "vehicle_type                            4646 non-null int64\n",
      "pickup_place                            4646 non-null int64\n",
      "place_category                          4646 non-null int64\n",
      "item_category_name                      4646 non-null int64\n",
      "meal                                    4646 non-null int64\n",
      "dtypes: float64(9), int64(6)\n",
      "memory usage: 544.6 KB\n"
     ]
    }
   ],
   "source": [
    "from sklearn.preprocessing import LabelEncoder\n",
    "\n",
    "column_to_encode = j1[['vehicle_type', 'pickup_place', 'place_category','item_category_name','meal']]\n",
    "\n",
    "le_columns = column_to_encode.apply(LabelEncoder().fit_transform)\n",
    "\n",
    "j1_le = j1_drop_1.join(le_columns)\n",
    "j1_le.head()\n",
    "j1_le.info()"
   ]
  },
  {
   "cell_type": "markdown",
   "metadata": {},
   "source": [
    "#### One hot encoding"
   ]
  },
  {
   "cell_type": "code",
   "execution_count": 7,
   "metadata": {},
   "outputs": [
    {
     "name": "stdout",
     "output_type": "stream",
     "text": [
      "<class 'pandas.core.frame.DataFrame'>\n",
      "RangeIndex: 4646 entries, 0 to 4645\n",
      "Columns: 927 entries, item_quantity to meal_midnight-food\n",
      "dtypes: float64(9), int64(1), uint8(917)\n",
      "memory usage: 4.4 MB\n"
     ]
    }
   ],
   "source": [
    "column_to_encode_1 = j1[['vehicle_type', 'pickup_place', 'place_category','item_category_name','meal']]\n",
    "\n",
    "ohe_columns = pd.get_dummies(column_to_encode_1)\n",
    "\n",
    "j1_ohe = j1_drop_1.join(ohe_columns)\n",
    "j1_ohe.head()\n",
    "j1_ohe.info()"
   ]
  },
  {
   "cell_type": "markdown",
   "metadata": {},
   "source": [
    "## 2. Machine learning\n",
    "* Logistic regression\n",
    "* Random Forest Classifier\n",
    "* Gradient Boosting Classifier"
   ]
  },
  {
   "cell_type": "markdown",
   "metadata": {},
   "source": [
    "### 2.0 Data we use"
   ]
  },
  {
   "cell_type": "markdown",
   "metadata": {},
   "source": [
    "* Delivery_id, location not included\n",
    "    * j1_drop_1 = j1[['jumpman_id', 'item_quantity', 'how_long_it_took_to_order','distance',\n",
    "       'time_for_Jumpman_to_arrive_at_pickup', 'Jumpman_waiting_time',\n",
    "       'time_for_delivery', 'extra_food_prep_time', 'customer_waiting_time',\n",
    "       'Jumpman_speed', 'loyal_customer']]"
   ]
  },
  {
   "cell_type": "markdown",
   "metadata": {},
   "source": [
    "### 2.1 Logistic regression\n",
    "\n",
    "Winner: Logistic regression + OHE\n",
    "* Training accuracy:  0.563362344853217\n",
    "* Testing accuracy:  0.5955249569707401"
   ]
  },
  {
   "cell_type": "markdown",
   "metadata": {},
   "source": [
    "### 2.1.0 Logistic regression + LE\n",
    "* Training accuracy:  0.5436518566589561\n",
    "* Testing accuracy:  0.5817555938037866"
   ]
  },
  {
   "cell_type": "code",
   "execution_count": 8,
   "metadata": {},
   "outputs": [],
   "source": [
    "from sklearn.linear_model import LogisticRegression\n",
    "\n",
    "X = j1_le.drop(['loyal_customer'], axis=1)\n",
    "y = j1_le[['loyal_customer']]\n",
    "\n",
    "X_train, X_test, y_train, y_test = train_test_split(X, y, test_size = 0.125, random_state=0)\n"
   ]
  },
  {
   "cell_type": "code",
   "execution_count": 9,
   "metadata": {},
   "outputs": [],
   "source": [
    "lr = LogisticRegression()"
   ]
  },
  {
   "cell_type": "code",
   "execution_count": 10,
   "metadata": {},
   "outputs": [],
   "source": [
    "lr.fit(X_train, y_train)\n",
    "y_pred = lr.predict(X_test)"
   ]
  },
  {
   "cell_type": "code",
   "execution_count": 11,
   "metadata": {},
   "outputs": [
    {
     "name": "stdout",
     "output_type": "stream",
     "text": [
      "=== Confusion Matrix on test===\n",
      "[[ 40 219]\n",
      " [ 24 298]]\n",
      "\n",
      "\n",
      "=== Classification Report on test===\n",
      "              precision    recall  f1-score   support\n",
      "\n",
      "           0       0.62      0.15      0.25       259\n",
      "           1       0.58      0.93      0.71       322\n",
      "\n",
      "    accuracy                           0.58       581\n",
      "   macro avg       0.60      0.54      0.48       581\n",
      "weighted avg       0.60      0.58      0.50       581\n",
      "\n",
      "\n",
      "\n"
     ]
    },
    {
     "data": {
      "image/png": "[encoded data removed]",
      "text/plain": [
       "<Figure size 432x288 with 1 Axes>"
      ]
     },
     "metadata": {
      "needs_background": "light"
     },
     "output_type": "display_data"
    },
    {
     "name": "stdout",
     "output_type": "stream",
     "text": [
      "=== Mean AUC Score on CV===\n",
      "Mean AUC Score:  0.5209410651257842\n",
      "\n",
      "\n",
      "=== Mean f1 Score on CV===\n",
      "Mean f1 Score:  0.6829620739508798\n",
      "\n",
      "\n",
      "=== Training and tesing accuracy===\n",
      "Training accuracy:  0.5436518566589561\n",
      "Testing accuracy:  0.5817555938037866\n"
     ]
    }
   ],
   "source": [
    "print(\"=== Confusion Matrix on test===\")\n",
    "print(confusion_matrix(y_test, y_pred))\n",
    "print('\\n')\n",
    "print(\"=== Classification Report on test===\")\n",
    "print(classification_report(y_test, y_pred))\n",
    "print('\\n')\n",
    "\n",
    "\n",
    "lr_cv_score = cross_val_score(lr, X_train, y_train, cv=10, scoring='roc_auc')\n",
    "lr_cv_score1 = cross_val_score(lr, X_train, y_train, cv=10, scoring='f1')\n",
    "lr_cv_score2 = cross_val_score(lr, X_train, y_train, cv=10)\n",
    "\n",
    "from sklearn.metrics import roc_auc_score\n",
    "from sklearn.metrics import roc_curve\n",
    "logit_roc_auc = roc_auc_score(y_test, lr.predict(X_test))\n",
    "fpr, tpr, thresholds = roc_curve(y_test, lr.predict_proba(X_test)[:,1])\n",
    "plt.figure()\n",
    "plt.plot(fpr, tpr, label='Logistic Regression (area = %0.2f)' % logit_roc_auc)\n",
    "plt.plot([0, 1], [0, 1],'r--')\n",
    "plt.xlim([0.0, 1.0])\n",
    "plt.ylim([0.0, 1.05])\n",
    "plt.xlabel('False Positive Rate')\n",
    "plt.ylabel('True Positive Rate')\n",
    "plt.title('Receiver operating characteristic(ROC)')\n",
    "plt.legend(loc=\"lower right\")\n",
    "plt.savefig('Log_ROC')\n",
    "plt.show()\n",
    "\n",
    "\n",
    "print(\"=== Mean AUC Score on CV===\")\n",
    "print(\"Mean AUC Score: \", lr_cv_score.mean())\n",
    "print('\\n')\n",
    "print(\"=== Mean f1 Score on CV===\")\n",
    "print(\"Mean f1 Score: \", lr_cv_score1.mean())\n",
    "print('\\n')\n",
    "print(\"=== Training and tesing accuracy===\")\n",
    "print(\"Training accuracy: \", lr_cv_score2.mean())\n",
    "print(\"Testing accuracy: \", accuracy_score(y_test, y_pred))"
   ]
  },
  {
   "cell_type": "markdown",
   "metadata": {},
   "source": [
    "By dropping all P > 0.05 the result do not improve"
   ]
  },
  {
   "cell_type": "markdown",
   "metadata": {},
   "source": [
    "By normalized the lable encoded data we see an decrease on f1 score, but increaed AUC"
   ]
  },
  {
   "cell_type": "markdown",
   "metadata": {},
   "source": [
    "### 2.1.1 Logistic regression + LE + Scaling\n",
    "* Training accuracy:  0.5507916938697872\n",
    "* Testing accuracy:  0.5817555938037866"
   ]
  },
  {
   "cell_type": "code",
   "execution_count": 12,
   "metadata": {},
   "outputs": [],
   "source": [
    "from sklearn.preprocessing import MinMaxScaler\n",
    "\n",
    "scaler = MinMaxScaler(feature_range = (0,1))\n",
    "\n",
    "scaler.fit(X_train)\n",
    "X_train = scaler.transform(X_train)\n",
    "X_test = scaler.transform(X_test)"
   ]
  },
  {
   "cell_type": "code",
   "execution_count": 13,
   "metadata": {},
   "outputs": [],
   "source": [
    "lr = LogisticRegression()\n"
   ]
  },
  {
   "cell_type": "code",
   "execution_count": 14,
   "metadata": {},
   "outputs": [
    {
     "data": {
      "text/plain": [
       "LogisticRegression(C=1.0, class_weight=None, dual=False, fit_intercept=True,\n",
       "                   intercept_scaling=1, l1_ratio=None, max_iter=100,\n",
       "                   multi_class='warn', n_jobs=None, penalty='l2',\n",
       "                   random_state=None, solver='warn', tol=0.0001, verbose=0,\n",
       "                   warm_start=False)"
      ]
     },
     "execution_count": 14,
     "metadata": {},
     "output_type": "execute_result"
    }
   ],
   "source": [
    "lr.fit(X_train, y_train)"
   ]
  },
  {
   "cell_type": "code",
   "execution_count": 15,
   "metadata": {},
   "outputs": [
    {
     "name": "stdout",
     "output_type": "stream",
     "text": [
      "=== Confusion Matrix on test===\n",
      "[[ 40 219]\n",
      " [ 24 298]]\n",
      "\n",
      "\n",
      "=== Classification Report on test===\n",
      "              precision    recall  f1-score   support\n",
      "\n",
      "           0       0.62      0.15      0.25       259\n",
      "           1       0.58      0.93      0.71       322\n",
      "\n",
      "    accuracy                           0.58       581\n",
      "   macro avg       0.60      0.54      0.48       581\n",
      "weighted avg       0.60      0.58      0.50       581\n",
      "\n",
      "\n",
      "\n"
     ]
    },
    {
     "data": {
      "image/png": "[encoded data removed]",
      "text/plain": [
       "<Figure size 432x288 with 1 Axes>"
      ]
     },
     "metadata": {
      "needs_background": "light"
     },
     "output_type": "display_data"
    },
    {
     "name": "stdout",
     "output_type": "stream",
     "text": [
      "=== Mean AUC Score on CV===\n",
      "Mean AUC Score:  0.5273416374641492\n",
      "\n",
      "\n",
      "=== Mean f1 Score on CV===\n",
      "Mean f1 Score:  0.6907243336037407\n",
      "\n",
      "\n",
      "=== Training and tesing accuracy===\n",
      "Training accuracy:  0.5507916938697872\n",
      "Testing accuracy:  0.5817555938037866\n"
     ]
    }
   ],
   "source": [
    "print(\"=== Confusion Matrix on test===\")\n",
    "print(confusion_matrix(y_test, y_pred))\n",
    "print('\\n')\n",
    "print(\"=== Classification Report on test===\")\n",
    "print(classification_report(y_test, y_pred))\n",
    "print('\\n')\n",
    "\n",
    "\n",
    "lr_cv_score = cross_val_score(lr, X_train, y_train, cv=10, scoring='roc_auc')\n",
    "lr_cv_score1 = cross_val_score(lr, X_train, y_train, cv=10, scoring='f1')\n",
    "lr_cv_score2 = cross_val_score(lr, X_train, y_train, cv=10)\n",
    "\n",
    "from sklearn.metrics import roc_auc_score\n",
    "from sklearn.metrics import roc_curve\n",
    "logit_roc_auc = roc_auc_score(y_test, lr.predict(X_test))\n",
    "fpr, tpr, thresholds = roc_curve(y_test, lr.predict_proba(X_test)[:,1])\n",
    "plt.figure()\n",
    "plt.plot(fpr, tpr, label='Logistic Regression (area = %0.2f)' % logit_roc_auc)\n",
    "plt.plot([0, 1], [0, 1],'r--')\n",
    "plt.xlim([0.0, 1.0])\n",
    "plt.ylim([0.0, 1.05])\n",
    "plt.xlabel('False Positive Rate')\n",
    "plt.ylabel('True Positive Rate')\n",
    "plt.title('Receiver operating characteristic(ROC)')\n",
    "plt.legend(loc=\"lower right\")\n",
    "plt.savefig('Log_ROC')\n",
    "plt.show()\n",
    "\n",
    "\n",
    "print(\"=== Mean AUC Score on CV===\")\n",
    "print(\"Mean AUC Score: \", lr_cv_score.mean())\n",
    "print('\\n')\n",
    "print(\"=== Mean f1 Score on CV===\")\n",
    "print(\"Mean f1 Score: \", lr_cv_score1.mean())\n",
    "print('\\n')\n",
    "print(\"=== Training and tesing accuracy===\")\n",
    "print(\"Training accuracy: \", lr_cv_score2.mean())\n",
    "print(\"Testing accuracy: \", accuracy_score(y_test, y_pred))"
   ]
  },
  {
   "cell_type": "markdown",
   "metadata": {},
   "source": [
    "### 2.1.2 Logistic regression + LE + Scaling + GridSearch\n",
    "* Training accuracy:  0.5517835694813382\n",
    "* Testing accuracy:  0.5817555938037866"
   ]
  },
  {
   "cell_type": "code",
   "execution_count": 16,
   "metadata": {},
   "outputs": [],
   "source": [
    "scaler = MinMaxScaler(feature_range = (0,1))\n",
    "\n",
    "scaler.fit(X_train)\n",
    "X_train = scaler.transform(X_train)\n",
    "X_test = scaler.transform(X_test)"
   ]
  },
  {
   "cell_type": "code",
   "execution_count": 17,
   "metadata": {},
   "outputs": [
    {
     "data": {
      "text/plain": [
       "{'C': 0.001, 'penalty': 'l2', 'random_state': 0}"
      ]
     },
     "execution_count": 17,
     "metadata": {},
     "output_type": "execute_result"
    }
   ],
   "source": [
    "param_grid = {\"C\":np.logspace(-3,3,7), \"penalty\":[\"l1\",\"l2\"], 'random_state':[0]}\n",
    "\n",
    "grid = GridSearchCV(lr, param_grid, verbose=0, scoring='accuracy')\n",
    "\n",
    "grid.fit(X_train,y_train)\n",
    "\n",
    "grid.best_params_"
   ]
  },
  {
   "cell_type": "code",
   "execution_count": 18,
   "metadata": {},
   "outputs": [
    {
     "data": {
      "text/plain": [
       "LogisticRegression(C=0.001, class_weight=None, dual=False, fit_intercept=True,\n",
       "                   intercept_scaling=1, l1_ratio=None, max_iter=100,\n",
       "                   multi_class='warn', n_jobs=None, penalty='l2',\n",
       "                   random_state=0, solver='warn', tol=0.0001, verbose=0,\n",
       "                   warm_start=False)"
      ]
     },
     "execution_count": 18,
     "metadata": {},
     "output_type": "execute_result"
    }
   ],
   "source": [
    "grid.best_estimator_\n",
    "\n"
   ]
  },
  {
   "cell_type": "code",
   "execution_count": 19,
   "metadata": {},
   "outputs": [],
   "source": [
    "lr = LogisticRegression(C=0.001, class_weight=None, dual=False, fit_intercept=True,\n",
    "                   intercept_scaling=1, l1_ratio=None, max_iter=100,\n",
    "                   multi_class='warn', n_jobs=None, penalty='l2',\n",
    "                   random_state=0, solver='warn', tol=0.0001, verbose=0,\n",
    "                   warm_start=False)\n"
   ]
  },
  {
   "cell_type": "code",
   "execution_count": 20,
   "metadata": {},
   "outputs": [
    {
     "data": {
      "text/plain": [
       "LogisticRegression(C=0.001, class_weight=None, dual=False, fit_intercept=True,\n",
       "                   intercept_scaling=1, l1_ratio=None, max_iter=100,\n",
       "                   multi_class='warn', n_jobs=None, penalty='l2',\n",
       "                   random_state=0, solver='warn', tol=0.0001, verbose=0,\n",
       "                   warm_start=False)"
      ]
     },
     "execution_count": 20,
     "metadata": {},
     "output_type": "execute_result"
    }
   ],
   "source": [
    "lr.fit(X_train, y_train)"
   ]
  },
  {
   "cell_type": "code",
   "execution_count": 21,
   "metadata": {
    "scrolled": false
   },
   "outputs": [
    {
     "name": "stdout",
     "output_type": "stream",
     "text": [
      "=== Confusion Matrix on test===\n",
      "[[ 40 219]\n",
      " [ 24 298]]\n",
      "\n",
      "\n",
      "=== Classification Report on test===\n",
      "              precision    recall  f1-score   support\n",
      "\n",
      "           0       0.62      0.15      0.25       259\n",
      "           1       0.58      0.93      0.71       322\n",
      "\n",
      "    accuracy                           0.58       581\n",
      "   macro avg       0.60      0.54      0.48       581\n",
      "weighted avg       0.60      0.58      0.50       581\n",
      "\n",
      "\n",
      "\n"
     ]
    },
    {
     "data": {
      "image/png": "[encoded data removed]",
      "text/plain": [
       "<Figure size 432x288 with 1 Axes>"
      ]
     },
     "metadata": {
      "needs_background": "light"
     },
     "output_type": "display_data"
    },
    {
     "name": "stdout",
     "output_type": "stream",
     "text": [
      "=== Mean AUC Score on CV===\n",
      "Mean AUC Score:  0.5292166987644153\n",
      "\n",
      "\n",
      "=== Mean f1 Score on CV===\n",
      "Mean f1 Score:  0.7111604042100772\n",
      "\n",
      "\n",
      "=== Training and tesing accuracy===\n",
      "Training accuracy:  0.5517835694813382\n",
      "Testing accuracy:  0.5817555938037866\n"
     ]
    }
   ],
   "source": [
    "print(\"=== Confusion Matrix on test===\")\n",
    "print(confusion_matrix(y_test, y_pred))\n",
    "print('\\n')\n",
    "print(\"=== Classification Report on test===\")\n",
    "print(classification_report(y_test, y_pred))\n",
    "print('\\n')\n",
    "\n",
    "\n",
    "lr_cv_score = cross_val_score(lr, X_train, y_train, cv=10, scoring='roc_auc')\n",
    "lr_cv_score1 = cross_val_score(lr, X_train, y_train, cv=10, scoring='f1')\n",
    "lr_cv_score2 = cross_val_score(lr, X_train, y_train, cv=10)\n",
    "\n",
    "from sklearn.metrics import roc_auc_score\n",
    "from sklearn.metrics import roc_curve\n",
    "logit_roc_auc = roc_auc_score(y_test, lr.predict(X_test))\n",
    "fpr, tpr, thresholds = roc_curve(y_test, lr.predict_proba(X_test)[:,1])\n",
    "plt.figure()\n",
    "plt.plot(fpr, tpr, label='Logistic Regression (area = %0.2f)' % logit_roc_auc)\n",
    "plt.plot([0, 1], [0, 1],'r--')\n",
    "plt.xlim([0.0, 1.0])\n",
    "plt.ylim([0.0, 1.05])\n",
    "plt.xlabel('False Positive Rate')\n",
    "plt.ylabel('True Positive Rate')\n",
    "plt.title('Receiver operating characteristic(ROC)')\n",
    "plt.legend(loc=\"lower right\")\n",
    "plt.savefig('Log_ROC')\n",
    "plt.show()\n",
    "\n",
    "\n",
    "print(\"=== Mean AUC Score on CV===\")\n",
    "print(\"Mean AUC Score: \", lr_cv_score.mean())\n",
    "print('\\n')\n",
    "print(\"=== Mean f1 Score on CV===\")\n",
    "print(\"Mean f1 Score: \", lr_cv_score1.mean())\n",
    "print('\\n')\n",
    "print(\"=== Training and tesing accuracy===\")\n",
    "print(\"Training accuracy: \", lr_cv_score2.mean())\n",
    "print(\"Testing accuracy: \", accuracy_score(y_test, y_pred))\n"
   ]
  },
  {
   "cell_type": "code",
   "execution_count": 22,
   "metadata": {},
   "outputs": [
    {
     "name": "stdout",
     "output_type": "stream",
     "text": [
      "Optimization terminated successfully.\n",
      "         Current function value: 0.683928\n",
      "         Iterations 4\n",
      "                                   Results: Logit\n",
      "====================================================================================\n",
      "Model:                     Logit                  Pseudo R-squared:       0.006     \n",
      "Dependent Variable:        loyal_customer         AIC:                    6383.0611 \n",
      "Date:                      2020-07-15 11:12       BIC:                    6473.2738 \n",
      "No. Observations:          4646                   Log-Likelihood:         -3177.5   \n",
      "Df Model:                  13                     LL-Null:                -3195.1   \n",
      "Df Residuals:              4632                   LLR p-value:            0.00080294\n",
      "Converged:                 1.0000                 Scale:                  1.0000    \n",
      "No. Iterations:            4.0000                                                   \n",
      "------------------------------------------------------------------------------------\n",
      "                                      Coef.  Std.Err.    z    P>|z|   [0.025  0.975]\n",
      "------------------------------------------------------------------------------------\n",
      "item_quantity                        -0.0291   0.0390 -0.7477 0.4546 -0.1055  0.0473\n",
      "how_long_it_took_to_order             0.0032   0.0078  0.4079 0.6833 -0.0120  0.0184\n",
      "distance                              0.0036   0.0691  0.0526 0.9580 -0.1319  0.1391\n",
      "time_for_Jumpman_to_arrive_at_pickup -0.0132   0.0641 -0.2054 0.8372 -0.1388  0.1125\n",
      "Jumpman_waiting_time                 -0.0157   0.0641 -0.2456 0.8060 -0.1413  0.1098\n",
      "time_for_delivery                    -0.0456   0.0631 -0.7219 0.4704 -0.1693  0.0781\n",
      "extra_food_prep_time                 -0.0293   0.0718 -0.4085 0.6829 -0.1702  0.1115\n",
      "customer_waiting_time                 0.0423   0.0630  0.6718 0.5017 -0.0812  0.1658\n",
      "Jumpman_speed                        -0.0092   0.0199 -0.4657 0.6414 -0.0482  0.0297\n",
      "vehicle_type                          0.0010   0.0217  0.0477 0.9620 -0.0415  0.0436\n",
      "pickup_place                         -0.0003   0.0001 -2.7470 0.0060 -0.0006 -0.0001\n",
      "place_category                        0.0051   0.0019  2.6411 0.0083  0.0013  0.0089\n",
      "item_category_name                    0.0186   0.0075  2.4774 0.0132  0.0039  0.0333\n",
      "meal                                  0.1188   0.0393  3.0215 0.0025  0.0417  0.1958\n",
      "====================================================================================\n",
      "\n"
     ]
    }
   ],
   "source": [
    "import statsmodels.api as sm\n",
    "logit_model=sm.Logit(y,X)\n",
    "result=logit_model.fit()\n",
    "print(result.summary2())"
   ]
  },
  {
   "cell_type": "markdown",
   "metadata": {},
   "source": [
    "### 2.1.3 Logistic regression + OHE\n",
    "* Training accuracy:  0.563362344853217\n",
    "* Testing accuracy:  0.5955249569707401"
   ]
  },
  {
   "cell_type": "code",
   "execution_count": 23,
   "metadata": {},
   "outputs": [],
   "source": [
    "from sklearn.linear_model import LogisticRegression\n",
    "\n",
    "X = j1_ohe.drop(['loyal_customer'], axis=1)\n",
    "y = j1_ohe[['loyal_customer']]\n",
    "\n",
    "X_train, X_test, y_train, y_test = train_test_split(X, y, test_size = 0.125, random_state=0)\n",
    "\n",
    "\n"
   ]
  },
  {
   "cell_type": "code",
   "execution_count": 24,
   "metadata": {},
   "outputs": [
    {
     "data": {
      "text/plain": [
       "LogisticRegression(C=1.0, class_weight=None, dual=False, fit_intercept=True,\n",
       "                   intercept_scaling=1, l1_ratio=None, max_iter=100,\n",
       "                   multi_class='warn', n_jobs=None, penalty='l2',\n",
       "                   random_state=None, solver='warn', tol=0.0001, verbose=0,\n",
       "                   warm_start=False)"
      ]
     },
     "execution_count": 24,
     "metadata": {},
     "output_type": "execute_result"
    }
   ],
   "source": [
    "lr = LogisticRegression()\n",
    "lr.fit(X_train, y_train)"
   ]
  },
  {
   "cell_type": "code",
   "execution_count": 25,
   "metadata": {},
   "outputs": [],
   "source": [
    "y_pred = lr.predict(X_test)"
   ]
  },
  {
   "cell_type": "code",
   "execution_count": 26,
   "metadata": {
    "scrolled": false
   },
   "outputs": [
    {
     "name": "stdout",
     "output_type": "stream",
     "text": [
      "=== Confusion Matrix on test===\n",
      "[[125 134]\n",
      " [101 221]]\n",
      "\n",
      "\n",
      "=== Classification Report on test===\n",
      "              precision    recall  f1-score   support\n",
      "\n",
      "           0       0.55      0.48      0.52       259\n",
      "           1       0.62      0.69      0.65       322\n",
      "\n",
      "    accuracy                           0.60       581\n",
      "   macro avg       0.59      0.58      0.58       581\n",
      "weighted avg       0.59      0.60      0.59       581\n",
      "\n",
      "\n",
      "\n"
     ]
    },
    {
     "data": {
      "image/png": "[encoded data removed]",
      "text/plain": [
       "<Figure size 432x288 with 1 Axes>"
      ]
     },
     "metadata": {
      "needs_background": "light"
     },
     "output_type": "display_data"
    },
    {
     "name": "stdout",
     "output_type": "stream",
     "text": [
      "=== Mean AUC Score on CV===\n",
      "Mean AUC Score:  0.5788276099496825\n",
      "\n",
      "\n",
      "=== Mean f1 Score on CV===\n",
      "Mean f1 Score:  0.6341088861391014\n",
      "\n",
      "\n",
      "=== Training and tesing accuracy===\n",
      "Training accuracy:  0.563362344853217\n",
      "Testing accuracy:  0.5955249569707401\n"
     ]
    }
   ],
   "source": [
    "print(\"=== Confusion Matrix on test===\")\n",
    "print(confusion_matrix(y_test, y_pred))\n",
    "print('\\n')\n",
    "print(\"=== Classification Report on test===\")\n",
    "print(classification_report(y_test, y_pred))\n",
    "print('\\n')\n",
    "\n",
    "\n",
    "lr_cv_score = cross_val_score(lr, X_train, y_train, cv=10, scoring='roc_auc')\n",
    "lr_cv_score1 = cross_val_score(lr, X_train, y_train, cv=10, scoring='f1')\n",
    "lr_cv_score2 = cross_val_score(lr, X_train, y_train, cv=10)\n",
    "\n",
    "from sklearn.metrics import roc_auc_score\n",
    "from sklearn.metrics import roc_curve\n",
    "logit_roc_auc = roc_auc_score(y_test, lr.predict(X_test))\n",
    "fpr, tpr, thresholds = roc_curve(y_test, lr.predict_proba(X_test)[:,1])\n",
    "plt.figure()\n",
    "plt.plot(fpr, tpr, label='Logistic Regression (area = %0.2f)' % logit_roc_auc)\n",
    "plt.plot([0, 1], [0, 1],'r--')\n",
    "plt.xlim([0.0, 1.0])\n",
    "plt.ylim([0.0, 1.05])\n",
    "plt.xlabel('False Positive Rate')\n",
    "plt.ylabel('True Positive Rate')\n",
    "plt.title('Receiver operating characteristic(ROC)')\n",
    "plt.legend(loc=\"lower right\")\n",
    "plt.savefig('Log_ROC')\n",
    "plt.show()\n",
    "\n",
    "\n",
    "print(\"=== Mean AUC Score on CV===\")\n",
    "print(\"Mean AUC Score: \", lr_cv_score.mean())\n",
    "print('\\n')\n",
    "print(\"=== Mean f1 Score on CV===\")\n",
    "print(\"Mean f1 Score: \", lr_cv_score1.mean())\n",
    "print('\\n')\n",
    "print(\"=== Training and tesing accuracy===\")\n",
    "print(\"Training accuracy: \", lr_cv_score2.mean())\n",
    "print(\"Testing accuracy: \", accuracy_score(y_test, y_pred))"
   ]
  },
  {
   "cell_type": "markdown",
   "metadata": {},
   "source": [
    "### 2.1.4 Logistic regression + OHE + Grid search\n",
    "* Training accuracy:  0.5655784765825335\n",
    "* Testing accuracy:  0.5851979345955249\n",
    "* The one hot encode f1 score improved by a little, but AUC decrease. And from confusion matrix, the regression just class everyone in the data set as a loyal customer."
   ]
  },
  {
   "cell_type": "code",
   "execution_count": 27,
   "metadata": {},
   "outputs": [
    {
     "data": {
      "text/plain": [
       "{'C': 1.0, 'penalty': 'l1', 'random_state': 0}"
      ]
     },
     "execution_count": 27,
     "metadata": {},
     "output_type": "execute_result"
    }
   ],
   "source": [
    "param_grid = {\"C\":np.logspace(-3,3,7), \"penalty\":[\"l1\",\"l2\"], 'random_state':[0]}\n",
    "\n",
    "grid = GridSearchCV(lr, param_grid, verbose=0, scoring='accuracy')\n",
    "\n",
    "grid.fit(X_train,y_train)\n",
    "\n",
    "grid.best_params_"
   ]
  },
  {
   "cell_type": "code",
   "execution_count": 28,
   "metadata": {},
   "outputs": [
    {
     "data": {
      "text/plain": [
       "LogisticRegression(C=1.0, class_weight=None, dual=False, fit_intercept=True,\n",
       "                   intercept_scaling=1, l1_ratio=None, max_iter=100,\n",
       "                   multi_class='warn', n_jobs=None, penalty='l1',\n",
       "                   random_state=0, solver='warn', tol=0.0001, verbose=0,\n",
       "                   warm_start=False)"
      ]
     },
     "execution_count": 28,
     "metadata": {},
     "output_type": "execute_result"
    }
   ],
   "source": [
    "grid.best_estimator_"
   ]
  },
  {
   "cell_type": "code",
   "execution_count": 30,
   "metadata": {},
   "outputs": [
    {
     "data": {
      "text/plain": [
       "LogisticRegression(C=1.0, class_weight=None, dual=False, fit_intercept=True,\n",
       "                   intercept_scaling=1, l1_ratio=None, max_iter=100,\n",
       "                   multi_class='warn', n_jobs=None, penalty='l1',\n",
       "                   random_state=0, solver='warn', tol=0.0001, verbose=0,\n",
       "                   warm_start=False)"
      ]
     },
     "execution_count": 30,
     "metadata": {},
     "output_type": "execute_result"
    }
   ],
   "source": [
    "lr = LogisticRegression(C=1.0, class_weight=None, dual=False, fit_intercept=True,\n",
    "                   intercept_scaling=1, l1_ratio=None, max_iter=100,\n",
    "                   multi_class='warn', n_jobs=None, penalty='l1',\n",
    "                   random_state=0, solver='warn', tol=0.0001, verbose=0,\n",
    "                   warm_start=False)\n",
    "lr.fit(X_train, y_train)"
   ]
  },
  {
   "cell_type": "code",
   "execution_count": 31,
   "metadata": {},
   "outputs": [],
   "source": [
    "y_pred = lr.predict(X_test)"
   ]
  },
  {
   "cell_type": "code",
   "execution_count": 32,
   "metadata": {},
   "outputs": [
    {
     "name": "stdout",
     "output_type": "stream",
     "text": [
      "=== Confusion Matrix on test===\n",
      "[[109 150]\n",
      " [ 91 231]]\n",
      "\n",
      "\n",
      "=== Classification Report on test===\n",
      "              precision    recall  f1-score   support\n",
      "\n",
      "           0       0.55      0.42      0.47       259\n",
      "           1       0.61      0.72      0.66       322\n",
      "\n",
      "    accuracy                           0.59       581\n",
      "   macro avg       0.58      0.57      0.57       581\n",
      "weighted avg       0.58      0.59      0.58       581\n",
      "\n",
      "\n",
      "\n"
     ]
    },
    {
     "data": {
      "image/png": "[encoded data removed]",
      "text/plain": [
       "<Figure size 432x288 with 1 Axes>"
      ]
     },
     "metadata": {
      "needs_background": "light"
     },
     "output_type": "display_data"
    },
    {
     "name": "stdout",
     "output_type": "stream",
     "text": [
      "=== Mean AUC Score on CV===\n",
      "Mean AUC Score:  0.5721747286346233\n",
      "\n",
      "\n",
      "=== Mean f1 Score on CV===\n",
      "Mean f1 Score:  0.6547361808901532\n",
      "\n",
      "\n",
      "=== Training and tesing accuracy===\n",
      "Training accuracy:  0.5655784765825335\n",
      "Testing accuracy:  0.5851979345955249\n"
     ]
    }
   ],
   "source": [
    "print(\"=== Confusion Matrix on test===\")\n",
    "print(confusion_matrix(y_test, y_pred))\n",
    "print('\\n')\n",
    "print(\"=== Classification Report on test===\")\n",
    "print(classification_report(y_test, y_pred))\n",
    "print('\\n')\n",
    "\n",
    "\n",
    "lr_cv_score = cross_val_score(lr, X_train, y_train, cv=10, scoring='roc_auc')\n",
    "lr_cv_score1 = cross_val_score(lr, X_train, y_train, cv=10, scoring='f1')\n",
    "lr_cv_score2 = cross_val_score(lr, X_train, y_train, cv=10)\n",
    "\n",
    "from sklearn.metrics import roc_auc_score\n",
    "from sklearn.metrics import roc_curve\n",
    "logit_roc_auc = roc_auc_score(y_test, lr.predict(X_test))\n",
    "fpr, tpr, thresholds = roc_curve(y_test, lr.predict_proba(X_test)[:,1])\n",
    "plt.figure()\n",
    "plt.plot(fpr, tpr, label='Logistic Regression (area = %0.2f)' % logit_roc_auc)\n",
    "plt.plot([0, 1], [0, 1],'r--')\n",
    "plt.xlim([0.0, 1.0])\n",
    "plt.ylim([0.0, 1.05])\n",
    "plt.xlabel('False Positive Rate')\n",
    "plt.ylabel('True Positive Rate')\n",
    "plt.title('Receiver operating characteristic(ROC)')\n",
    "plt.legend(loc=\"lower right\")\n",
    "plt.savefig('Log_ROC')\n",
    "plt.show()\n",
    "\n",
    "\n",
    "print(\"=== Mean AUC Score on CV===\")\n",
    "print(\"Mean AUC Score: \", lr_cv_score.mean())\n",
    "print('\\n')\n",
    "print(\"=== Mean f1 Score on CV===\")\n",
    "print(\"Mean f1 Score: \", lr_cv_score1.mean())\n",
    "print('\\n')\n",
    "print(\"=== Training and tesing accuracy===\")\n",
    "print(\"Training accuracy: \", lr_cv_score2.mean())\n",
    "print(\"Testing accuracy: \", accuracy_score(y_test, y_pred))"
   ]
  },
  {
   "cell_type": "markdown",
   "metadata": {},
   "source": [
    "### 2.1 Random Forest Classification\n",
    "Winner = Random Forest Classification + LE + Grid Search\n",
    "* Training accuracy:  0.5567060468176087\n",
    "* Testing accuracy:  0.5783132530120482"
   ]
  },
  {
   "cell_type": "markdown",
   "metadata": {},
   "source": [
    "### 2.1.0 Random Forest Classification + LE \n",
    "* Training accuracy:  0.522279453592841\n",
    "* Testing accuracy:  0.5283993115318416"
   ]
  },
  {
   "cell_type": "code",
   "execution_count": 33,
   "metadata": {},
   "outputs": [],
   "source": [
    "from sklearn import model_selection\n",
    "from sklearn.ensemble import RandomForestClassifier\n",
    "\n",
    "X = j1_le.drop(['loyal_customer'], axis=1)\n",
    "y = j1_le[['loyal_customer']]\n",
    "\n",
    "X_train, X_test, y_train, y_test = train_test_split(X, y, test_size = 0.125, random_state=0)\n"
   ]
  },
  {
   "cell_type": "code",
   "execution_count": 35,
   "metadata": {},
   "outputs": [
    {
     "data": {
      "text/plain": [
       "RandomForestClassifier(bootstrap=True, class_weight=None, criterion='gini',\n",
       "                       max_depth=None, max_features='auto', max_leaf_nodes=None,\n",
       "                       min_impurity_decrease=0.0, min_impurity_split=None,\n",
       "                       min_samples_leaf=1, min_samples_split=2,\n",
       "                       min_weight_fraction_leaf=0.0, n_estimators=10,\n",
       "                       n_jobs=None, oob_score=False, random_state=0, verbose=0,\n",
       "                       warm_start=False)"
      ]
     },
     "execution_count": 35,
     "metadata": {},
     "output_type": "execute_result"
    }
   ],
   "source": [
    "rfc = RandomForestClassifier(random_state=0)\n",
    "\n",
    "rfc.fit(X_train,y_train)"
   ]
  },
  {
   "cell_type": "code",
   "execution_count": 36,
   "metadata": {},
   "outputs": [],
   "source": [
    "y_pred = rfc.predict(X_test)\n",
    "\n"
   ]
  },
  {
   "cell_type": "code",
   "execution_count": 37,
   "metadata": {},
   "outputs": [
    {
     "name": "stdout",
     "output_type": "stream",
     "text": [
      "=== Confusion Matrix on test===\n",
      "[[138 121]\n",
      " [153 169]]\n",
      "\n",
      "\n",
      "=== Classification Report on test===\n",
      "              precision    recall  f1-score   support\n",
      "\n",
      "           0       0.47      0.53      0.50       259\n",
      "           1       0.58      0.52      0.55       322\n",
      "\n",
      "    accuracy                           0.53       581\n",
      "   macro avg       0.53      0.53      0.53       581\n",
      "weighted avg       0.53      0.53      0.53       581\n",
      "\n",
      "\n",
      "\n"
     ]
    },
    {
     "data": {
      "image/png": "[encoded data removed]",
      "text/plain": [
       "<Figure size 432x288 with 1 Axes>"
      ]
     },
     "metadata": {
      "needs_background": "light"
     },
     "output_type": "display_data"
    },
    {
     "name": "stdout",
     "output_type": "stream",
     "text": [
      "\n",
      "\n",
      "=== Mean AUC Score on CV===\n",
      "Mean AUC Score:  0.5309930434920921\n",
      "\n",
      "\n",
      "=== Mean f1 Score on CV===\n",
      "Mean f1 Score:  0.5469040782668668\n",
      "\n",
      "\n",
      "=== Training and tesing accuracy===\n",
      "Training accuracy:  0.522279453592841\n",
      "Testing accuracy:  0.5283993115318416\n"
     ]
    }
   ],
   "source": [
    "print(\"=== Confusion Matrix on test===\")\n",
    "print(confusion_matrix(y_test, y_pred))\n",
    "print('\\n')\n",
    "print(\"=== Classification Report on test===\")\n",
    "print(classification_report(y_test, y_pred))\n",
    "print('\\n')\n",
    "\n",
    "\n",
    "rfc_cv_score = cross_val_score(rfc, X_train, y_train, cv=10, scoring='roc_auc')\n",
    "rfc_cv_score1 = cross_val_score(rfc, X_train, y_train, cv=10, scoring='f1')\n",
    "lr_cv_score2 = cross_val_score(rfc, X_train, y_train, cv=10)\n",
    "\n",
    "\n",
    "\n",
    "from sklearn.metrics import roc_auc_score\n",
    "from sklearn.metrics import roc_curve\n",
    "logit_roc_auc = roc_auc_score(y_test, rfc.predict(X_test))\n",
    "fpr, tpr, thresholds = roc_curve(y_test, rfc.predict_proba(X_test)[:,1])\n",
    "plt.figure()\n",
    "plt.plot(fpr, tpr, label='Random forest classifier (area = %0.2f)' % logit_roc_auc)\n",
    "plt.plot([0, 1], [0, 1],'r--')\n",
    "plt.xlim([0.0, 1.0])\n",
    "plt.ylim([0.0, 1.05])\n",
    "plt.xlabel('False Positive Rate')\n",
    "plt.ylabel('True Positive Rate')\n",
    "plt.title('Receiver operating characteristic(ROC) on test set')\n",
    "plt.legend(loc=\"lower right\")\n",
    "plt.savefig('Log_ROC')\n",
    "plt.show()\n",
    "\n",
    "\n",
    "print('\\n')\n",
    "print(\"=== Mean AUC Score on CV===\")\n",
    "print(\"Mean AUC Score: \", rfc_cv_score.mean())\n",
    "\n",
    "print('\\n')\n",
    "print(\"=== Mean f1 Score on CV===\")\n",
    "print(\"Mean f1 Score: \", rfc_cv_score1.mean())\n",
    "\n",
    "print('\\n')\n",
    "print(\"=== Training and tesing accuracy===\")\n",
    "print(\"Training accuracy: \", lr_cv_score2.mean())\n",
    "print(\"Testing accuracy: \", accuracy_score(y_test, y_pred))"
   ]
  },
  {
   "cell_type": "code",
   "execution_count": 38,
   "metadata": {},
   "outputs": [
    {
     "data": {
      "text/plain": [
       "<Figure size 1080x576 with 0 Axes>"
      ]
     },
     "metadata": {},
     "output_type": "display_data"
    },
    {
     "data": {
      "image/png": "[encoded data removed]",
      "text/plain": [
       "<Figure size 432x288 with 1 Axes>"
      ]
     },
     "metadata": {
      "needs_background": "light"
     },
     "output_type": "display_data"
    }
   ],
   "source": [
    "importances = rfc.feature_importances_\n",
    "\n",
    "fig = plt.gcf();\n",
    "fig.set_size_inches(15,8);\n",
    "\n",
    "# Sort feature importances in descending order\n",
    "indices = (np.argsort(importances)[::-1])[:10];\n",
    "\n",
    "# Rearrange feature names so they match the sorted feature importances\n",
    "names = [X.columns[i] for i in indices];\n",
    "\n",
    "# Create plot\n",
    "plt.figure();\n",
    "\n",
    "# Create plot title\n",
    "plt.title(\"Feature Importance\");\n",
    "\n",
    "# Add bars\n",
    "plt.bar(range(0, 10), importances[indices]);\n",
    "\n",
    "# Add feature names as x-axis labels\n",
    "plt.xticks(range(0, 10), names[:10], rotation=90);\n",
    "\n",
    "# Show plot\n",
    "plt.show();"
   ]
  },
  {
   "cell_type": "markdown",
   "metadata": {},
   "source": [
    "### 2.1.1 Random Forest Classification + LE + Grid Search\n",
    "* Training accuracy:  0.5567060468176087\n",
    "* Testing accuracy:  0.5783132530120482"
   ]
  },
  {
   "cell_type": "code",
   "execution_count": 40,
   "metadata": {
    "scrolled": true
   },
   "outputs": [
    {
     "data": {
      "text/plain": [
       "{'bootstrap': False,\n",
       " 'criterion': 'entropy',\n",
       " 'max_depth': 5,\n",
       " 'max_features': 'auto',\n",
       " 'min_samples_leaf': 4,\n",
       " 'min_samples_split': 2,\n",
       " 'n_estimators': 100,\n",
       " 'random_state': 0}"
      ]
     },
     "execution_count": 40,
     "metadata": {},
     "output_type": "execute_result"
    }
   ],
   "source": [
    "param_grid = {'bootstrap': [True, False],'max_depth': [3,4,5],'max_features': ['auto','sqrt','log2'],\\\n",
    "               'min_samples_leaf': [1, 2, 4],'min_samples_split': [2, 5],\\\n",
    "              'n_estimators': [100, 500, 1000], 'criterion': ['gini','entropy'], 'random_state':[0]}\n",
    "\n",
    "\n",
    "grid = GridSearchCV(rfc, param_grid, verbose=0, scoring='accuracy')\n",
    "\n",
    "grid.fit(X_train,y_train)\n",
    "\n",
    "grid.best_params_\n",
    "\n",
    "# grid.best_estimator_\n",
    "\n",
    "# grid_predictions = grid.predict(X_test)\n",
    "\n",
    "# print(confusion_matrix(y_test,grid_predictions))\n",
    "# print('\\n')\n",
    "# print(classification_report(y_test,grid_predictions))"
   ]
  },
  {
   "cell_type": "code",
   "execution_count": 42,
   "metadata": {
    "scrolled": true
   },
   "outputs": [
    {
     "data": {
      "text/plain": [
       "RandomForestClassifier(bootstrap=False, class_weight=None, criterion='entropy',\n",
       "                       max_depth=5, max_features='auto', max_leaf_nodes=None,\n",
       "                       min_impurity_decrease=0.0, min_impurity_split=None,\n",
       "                       min_samples_leaf=4, min_samples_split=2,\n",
       "                       min_weight_fraction_leaf=0.0, n_estimators=100,\n",
       "                       n_jobs=None, oob_score=False, random_state=0, verbose=0,\n",
       "                       warm_start=False)"
      ]
     },
     "execution_count": 42,
     "metadata": {},
     "output_type": "execute_result"
    }
   ],
   "source": [
    "grid.best_estimator_"
   ]
  },
  {
   "cell_type": "code",
   "execution_count": 44,
   "metadata": {
    "scrolled": true
   },
   "outputs": [
    {
     "data": {
      "text/plain": [
       "RandomForestClassifier(bootstrap=False, class_weight=None, criterion='entropy',\n",
       "                       max_depth=7, max_features='auto', max_leaf_nodes=None,\n",
       "                       min_impurity_decrease=0.0, min_impurity_split=None,\n",
       "                       min_samples_leaf=6, min_samples_split=2,\n",
       "                       min_weight_fraction_leaf=0.0, n_estimators=100,\n",
       "                       n_jobs=None, oob_score=False, random_state=0, verbose=0,\n",
       "                       warm_start=False)"
      ]
     },
     "execution_count": 44,
     "metadata": {},
     "output_type": "execute_result"
    }
   ],
   "source": [
    "param_grid = {'bootstrap': [False],'max_depth': [7,8,9],'max_features': ['auto'],\\\n",
    "               'min_samples_leaf': [6,7,8],'min_samples_split': [2],\\\n",
    "              'n_estimators': [100], 'criterion': ['entropy'], 'random_state':[0]}\n",
    "\n",
    "grid = GridSearchCV(rfc, param_grid, verbose=0, scoring='accuracy')\n",
    "\n",
    "grid.fit(X_train,y_train)\n",
    "\n",
    "grid.best_params_\n",
    "\n",
    "grid.best_estimator_\n"
   ]
  },
  {
   "cell_type": "markdown",
   "metadata": {},
   "source": [
    "Fit the label encoded data with new tunning variables, and it showed an significantly improved score"
   ]
  },
  {
   "cell_type": "code",
   "execution_count": 45,
   "metadata": {},
   "outputs": [
    {
     "data": {
      "text/plain": [
       "RandomForestClassifier(bootstrap=False, class_weight=None, criterion='entropy',\n",
       "                       max_depth=7, max_features='auto', max_leaf_nodes=None,\n",
       "                       min_impurity_decrease=0.0, min_impurity_split=None,\n",
       "                       min_samples_leaf=6, min_samples_split=2,\n",
       "                       min_weight_fraction_leaf=0.0, n_estimators=100,\n",
       "                       n_jobs=None, oob_score=False, random_state=0, verbose=0,\n",
       "                       warm_start=False)"
      ]
     },
     "execution_count": 45,
     "metadata": {},
     "output_type": "execute_result"
    }
   ],
   "source": [
    "rfc = RandomForestClassifier(bootstrap=False, class_weight=None, criterion='entropy',\n",
    "                       max_depth=7, max_features='auto', max_leaf_nodes=None,\n",
    "                       min_impurity_decrease=0.0, min_impurity_split=None,\n",
    "                       min_samples_leaf=6, min_samples_split=2,\n",
    "                       min_weight_fraction_leaf=0.0, n_estimators=100,\n",
    "                       n_jobs=None, oob_score=False, random_state=0, verbose=0,\n",
    "                       warm_start=False)\n",
    "\n",
    "rfc.fit(X_train,y_train)"
   ]
  },
  {
   "cell_type": "code",
   "execution_count": 46,
   "metadata": {},
   "outputs": [],
   "source": [
    "y_pred = rfc.predict(X_test)\n"
   ]
  },
  {
   "cell_type": "code",
   "execution_count": 47,
   "metadata": {
    "scrolled": false
   },
   "outputs": [
    {
     "name": "stdout",
     "output_type": "stream",
     "text": [
      "=== Confusion Matrix on test===\n",
      "[[ 48 211]\n",
      " [ 34 288]]\n",
      "\n",
      "\n",
      "=== Classification Report on test===\n",
      "              precision    recall  f1-score   support\n",
      "\n",
      "           0       0.59      0.19      0.28       259\n",
      "           1       0.58      0.89      0.70       322\n",
      "\n",
      "    accuracy                           0.58       581\n",
      "   macro avg       0.58      0.54      0.49       581\n",
      "weighted avg       0.58      0.58      0.51       581\n",
      "\n",
      "\n",
      "\n"
     ]
    },
    {
     "data": {
      "image/png": "[encoded data removed]",
      "text/plain": [
       "<Figure size 432x288 with 1 Axes>"
      ]
     },
     "metadata": {
      "needs_background": "light"
     },
     "output_type": "display_data"
    },
    {
     "name": "stdout",
     "output_type": "stream",
     "text": [
      "\n",
      "\n",
      "=== Mean AUC Score on CV===\n",
      "Mean AUC Score:  0.5424168018370301\n",
      "\n",
      "\n",
      "=== Mean f1 Score on CV===\n",
      "Mean f1 Score:  0.6875369212621292\n",
      "\n",
      "\n",
      "=== Training and tesing accuracy===\n",
      "Training accuracy:  0.5567060468176087\n",
      "Testing accuracy:  0.5783132530120482\n"
     ]
    }
   ],
   "source": [
    "print(\"=== Confusion Matrix on test===\")\n",
    "print(confusion_matrix(y_test, y_pred))\n",
    "print('\\n')\n",
    "print(\"=== Classification Report on test===\")\n",
    "print(classification_report(y_test, y_pred))\n",
    "print('\\n')\n",
    "\n",
    "\n",
    "rfc_cv_score = cross_val_score(rfc, X_train, y_train, cv=10, scoring='roc_auc')\n",
    "rfc_cv_score1 = cross_val_score(rfc, X_train, y_train, cv=10, scoring='f1')\n",
    "lr_cv_score2 = cross_val_score(rfc, X_train, y_train, cv=10)\n",
    "\n",
    "\n",
    "\n",
    "from sklearn.metrics import roc_auc_score\n",
    "from sklearn.metrics import roc_curve\n",
    "logit_roc_auc = roc_auc_score(y_test, rfc.predict(X_test))\n",
    "fpr, tpr, thresholds = roc_curve(y_test, rfc.predict_proba(X_test)[:,1])\n",
    "plt.figure()\n",
    "plt.plot(fpr, tpr, label='Random forest classifier (area = %0.2f)' % logit_roc_auc)\n",
    "plt.plot([0, 1], [0, 1],'r--')\n",
    "plt.xlim([0.0, 1.0])\n",
    "plt.ylim([0.0, 1.05])\n",
    "plt.xlabel('False Positive Rate')\n",
    "plt.ylabel('True Positive Rate')\n",
    "plt.title('Receiver operating characteristic(ROC) on test set')\n",
    "plt.legend(loc=\"lower right\")\n",
    "plt.savefig('Log_ROC')\n",
    "plt.show()\n",
    "\n",
    "\n",
    "print('\\n')\n",
    "print(\"=== Mean AUC Score on CV===\")\n",
    "print(\"Mean AUC Score: \", rfc_cv_score.mean())\n",
    "\n",
    "print('\\n')\n",
    "print(\"=== Mean f1 Score on CV===\")\n",
    "print(\"Mean f1 Score: \", rfc_cv_score1.mean())\n",
    "\n",
    "print('\\n')\n",
    "print(\"=== Training and tesing accuracy===\")\n",
    "print(\"Training accuracy: \", lr_cv_score2.mean())\n",
    "print(\"Testing accuracy: \", accuracy_score(y_test, y_pred))"
   ]
  },
  {
   "cell_type": "markdown",
   "metadata": {},
   "source": [
    "Scaling on label encoded data do not perform well here"
   ]
  },
  {
   "cell_type": "markdown",
   "metadata": {},
   "source": [
    "### 2.1.2 Random Forest Classification + LE + Grid Search + Scaling\n",
    "Do not do well"
   ]
  },
  {
   "cell_type": "code",
   "execution_count": 168,
   "metadata": {},
   "outputs": [],
   "source": [
    "# scaler = MinMaxScaler(feature_range = (0,1))\n",
    "\n",
    "# scaler.fit(X_train)\n",
    "# X_train = scaler.transform(X_train)\n",
    "# X_test = scaler.transform(X_test)"
   ]
  },
  {
   "cell_type": "markdown",
   "metadata": {},
   "source": [
    "### 2.1.3 Random Forest Classification + OHE\n",
    "* Training accuracy:  0.5240066292551079\n",
    "* Testing accuracy:  0.5576592082616179"
   ]
  },
  {
   "cell_type": "code",
   "execution_count": 48,
   "metadata": {},
   "outputs": [],
   "source": [
    "X = j1_ohe.drop(['loyal_customer'], axis=1)\n",
    "y = j1_ohe[['loyal_customer']]\n",
    "\n",
    "X_train, X_test, y_train, y_test = train_test_split(X, y, test_size = 0.125, random_state=0)\n",
    "\n"
   ]
  },
  {
   "cell_type": "code",
   "execution_count": 49,
   "metadata": {},
   "outputs": [
    {
     "data": {
      "text/plain": [
       "RandomForestClassifier(bootstrap=True, class_weight=None, criterion='gini',\n",
       "                       max_depth=None, max_features='auto', max_leaf_nodes=None,\n",
       "                       min_impurity_decrease=0.0, min_impurity_split=None,\n",
       "                       min_samples_leaf=1, min_samples_split=2,\n",
       "                       min_weight_fraction_leaf=0.0, n_estimators=10,\n",
       "                       n_jobs=None, oob_score=False, random_state=0, verbose=0,\n",
       "                       warm_start=False)"
      ]
     },
     "execution_count": 49,
     "metadata": {},
     "output_type": "execute_result"
    }
   ],
   "source": [
    "rfc = RandomForestClassifier(random_state=0)\n",
    "\n",
    "rfc.fit(X_train,y_train)"
   ]
  },
  {
   "cell_type": "code",
   "execution_count": 50,
   "metadata": {},
   "outputs": [],
   "source": [
    "y_pred = rfc.predict(X_test)\n",
    "\n"
   ]
  },
  {
   "cell_type": "code",
   "execution_count": 51,
   "metadata": {
    "scrolled": false
   },
   "outputs": [
    {
     "name": "stdout",
     "output_type": "stream",
     "text": [
      "=== Confusion Matrix on test===\n",
      "[[143 116]\n",
      " [141 181]]\n",
      "\n",
      "\n",
      "=== Classification Report on test===\n",
      "              precision    recall  f1-score   support\n",
      "\n",
      "           0       0.50      0.55      0.53       259\n",
      "           1       0.61      0.56      0.58       322\n",
      "\n",
      "    accuracy                           0.56       581\n",
      "   macro avg       0.56      0.56      0.56       581\n",
      "weighted avg       0.56      0.56      0.56       581\n",
      "\n",
      "\n",
      "\n"
     ]
    },
    {
     "data": {
      "image/png": "[encoded data removed]",
      "text/plain": [
       "<Figure size 432x288 with 1 Axes>"
      ]
     },
     "metadata": {
      "needs_background": "light"
     },
     "output_type": "display_data"
    },
    {
     "name": "stdout",
     "output_type": "stream",
     "text": [
      "\n",
      "\n",
      "=== Mean AUC Score on CV===\n",
      "Mean AUC Score:  0.5274289184988834\n",
      "\n",
      "\n",
      "=== Mean f1 Score on CV===\n",
      "Mean f1 Score:  0.5582915822829014\n",
      "\n",
      "\n",
      "=== Training and tesing accuracy===\n",
      "Training accuracy:  0.5240066292551079\n",
      "Testing accuracy:  0.5576592082616179\n"
     ]
    }
   ],
   "source": [
    "print(\"=== Confusion Matrix on test===\")\n",
    "print(confusion_matrix(y_test, y_pred))\n",
    "print('\\n')\n",
    "print(\"=== Classification Report on test===\")\n",
    "print(classification_report(y_test, y_pred))\n",
    "print('\\n')\n",
    "\n",
    "\n",
    "rfc_cv_score = cross_val_score(rfc, X_train, y_train, cv=10, scoring='roc_auc')\n",
    "rfc_cv_score1 = cross_val_score(rfc, X_train, y_train, cv=10, scoring='f1')\n",
    "lr_cv_score2 = cross_val_score(rfc, X_train, y_train, cv=10)\n",
    "\n",
    "\n",
    "\n",
    "from sklearn.metrics import roc_auc_score\n",
    "from sklearn.metrics import roc_curve\n",
    "logit_roc_auc = roc_auc_score(y_test, rfc.predict(X_test))\n",
    "fpr, tpr, thresholds = roc_curve(y_test, rfc.predict_proba(X_test)[:,1])\n",
    "plt.figure()\n",
    "plt.plot(fpr, tpr, label='Random forest classifier (area = %0.2f)' % logit_roc_auc)\n",
    "plt.plot([0, 1], [0, 1],'r--')\n",
    "plt.xlim([0.0, 1.0])\n",
    "plt.ylim([0.0, 1.05])\n",
    "plt.xlabel('False Positive Rate')\n",
    "plt.ylabel('True Positive Rate')\n",
    "plt.title('Receiver operating characteristic(ROC) on test set')\n",
    "plt.legend(loc=\"lower right\")\n",
    "plt.savefig('Log_ROC')\n",
    "plt.show()\n",
    "\n",
    "\n",
    "print('\\n')\n",
    "print(\"=== Mean AUC Score on CV===\")\n",
    "print(\"Mean AUC Score: \", rfc_cv_score.mean())\n",
    "\n",
    "print('\\n')\n",
    "print(\"=== Mean f1 Score on CV===\")\n",
    "print(\"Mean f1 Score: \", rfc_cv_score1.mean())\n",
    "\n",
    "print('\\n')\n",
    "print(\"=== Training and tesing accuracy===\")\n",
    "print(\"Training accuracy: \", lr_cv_score2.mean())\n",
    "print(\"Testing accuracy: \", accuracy_score(y_test, y_pred))"
   ]
  },
  {
   "cell_type": "markdown",
   "metadata": {},
   "source": [
    "### 2.1.3 Random Forest Classification + OHE + Grid Search\n",
    "* Training accuracy:  0.5522834275623323\n",
    "* Testing accuracy:  0.5593803786574871"
   ]
  },
  {
   "cell_type": "code",
   "execution_count": 52,
   "metadata": {},
   "outputs": [
    {
     "data": {
      "text/plain": [
       "{'bootstrap': False,\n",
       " 'criterion': 'gini',\n",
       " 'max_depth': 5,\n",
       " 'max_features': 'auto',\n",
       " 'min_samples_leaf': 1,\n",
       " 'min_samples_split': 2,\n",
       " 'n_estimators': 500,\n",
       " 'random_state': 0}"
      ]
     },
     "execution_count": 52,
     "metadata": {},
     "output_type": "execute_result"
    }
   ],
   "source": [
    "param_grid = {'bootstrap': [True, False],'max_depth': [3,4,5],'max_features': ['auto','sqrt','log2'],\\\n",
    "               'min_samples_leaf': [1, 2, 4],'min_samples_split': [2, 5],\\\n",
    "              'n_estimators': [100, 500, 1000], 'criterion': ['gini','entropy'], 'random_state':[0]}\n",
    "\n",
    "\n",
    "grid = GridSearchCV(rfc, param_grid, verbose=0, scoring='accuracy')\n",
    "\n",
    "grid.fit(X_train,y_train)\n",
    "\n",
    "grid.best_params_\n",
    "\n"
   ]
  },
  {
   "cell_type": "code",
   "execution_count": 53,
   "metadata": {},
   "outputs": [
    {
     "data": {
      "text/plain": [
       "RandomForestClassifier(bootstrap=False, class_weight=None, criterion='gini',\n",
       "                       max_depth=5, max_features='auto', max_leaf_nodes=None,\n",
       "                       min_impurity_decrease=0.0, min_impurity_split=None,\n",
       "                       min_samples_leaf=1, min_samples_split=2,\n",
       "                       min_weight_fraction_leaf=0.0, n_estimators=500,\n",
       "                       n_jobs=None, oob_score=False, random_state=0, verbose=0,\n",
       "                       warm_start=False)"
      ]
     },
     "execution_count": 53,
     "metadata": {},
     "output_type": "execute_result"
    }
   ],
   "source": [
    "grid.best_params_\n",
    "\n",
    "grid.best_estimator_"
   ]
  },
  {
   "cell_type": "code",
   "execution_count": 54,
   "metadata": {},
   "outputs": [
    {
     "data": {
      "text/plain": [
       "{'bootstrap': False,\n",
       " 'criterion': 'gini',\n",
       " 'max_depth': 7,\n",
       " 'max_features': 'auto',\n",
       " 'min_samples_leaf': 1,\n",
       " 'min_samples_split': 2,\n",
       " 'n_estimators': 500,\n",
       " 'random_state': 0}"
      ]
     },
     "execution_count": 54,
     "metadata": {},
     "output_type": "execute_result"
    }
   ],
   "source": [
    "param_grid = {'bootstrap': [True, False],'max_depth': [5, 6, 7],'max_features': ['auto'],\\\n",
    "               'min_samples_leaf': [1],'min_samples_split': [2],\\\n",
    "              'n_estimators': [500], 'criterion': ['gini'], 'random_state':[0]}\n",
    "\n",
    "\n",
    "grid = GridSearchCV(rfc, param_grid, verbose=0, scoring='accuracy')\n",
    "\n",
    "grid.fit(X_train,y_train)\n",
    "\n",
    "grid.best_params_\n",
    "\n"
   ]
  },
  {
   "cell_type": "code",
   "execution_count": 55,
   "metadata": {},
   "outputs": [
    {
     "data": {
      "text/plain": [
       "RandomForestClassifier(bootstrap=False, class_weight=None, criterion='gini',\n",
       "                       max_depth=7, max_features='auto', max_leaf_nodes=None,\n",
       "                       min_impurity_decrease=0.0, min_impurity_split=None,\n",
       "                       min_samples_leaf=1, min_samples_split=2,\n",
       "                       min_weight_fraction_leaf=0.0, n_estimators=500,\n",
       "                       n_jobs=None, oob_score=False, random_state=0, verbose=0,\n",
       "                       warm_start=False)"
      ]
     },
     "execution_count": 55,
     "metadata": {},
     "output_type": "execute_result"
    }
   ],
   "source": [
    "grid.best_estimator_"
   ]
  },
  {
   "cell_type": "code",
   "execution_count": 57,
   "metadata": {},
   "outputs": [
    {
     "data": {
      "text/plain": [
       "RandomForestClassifier(bootstrap=False, class_weight=None, criterion='gini',\n",
       "                       max_depth=7, max_features='auto', max_leaf_nodes=None,\n",
       "                       min_impurity_decrease=0.0, min_impurity_split=None,\n",
       "                       min_samples_leaf=1, min_samples_split=2,\n",
       "                       min_weight_fraction_leaf=0.0, n_estimators=500,\n",
       "                       n_jobs=None, oob_score=False, random_state=0, verbose=0,\n",
       "                       warm_start=False)"
      ]
     },
     "execution_count": 57,
     "metadata": {},
     "output_type": "execute_result"
    }
   ],
   "source": [
    "rfc = RandomForestClassifier(bootstrap=False, class_weight=None, criterion='gini',\n",
    "                       max_depth=7, max_features='auto', max_leaf_nodes=None,\n",
    "                       min_impurity_decrease=0.0, min_impurity_split=None,\n",
    "                       min_samples_leaf=1, min_samples_split=2,\n",
    "                       min_weight_fraction_leaf=0.0, n_estimators=500,\n",
    "                       n_jobs=None, oob_score=False, random_state=0, verbose=0,\n",
    "                       warm_start=False)\n",
    "\n",
    "rfc.fit(X_train,y_train)"
   ]
  },
  {
   "cell_type": "code",
   "execution_count": 58,
   "metadata": {},
   "outputs": [],
   "source": [
    "y_pred = rfc.predict(X_test)"
   ]
  },
  {
   "cell_type": "code",
   "execution_count": 59,
   "metadata": {
    "scrolled": false
   },
   "outputs": [
    {
     "name": "stdout",
     "output_type": "stream",
     "text": [
      "=== Confusion Matrix on test===\n",
      "[[ 12 247]\n",
      " [  9 313]]\n",
      "\n",
      "\n",
      "=== Classification Report on test===\n",
      "              precision    recall  f1-score   support\n",
      "\n",
      "           0       0.57      0.05      0.09       259\n",
      "           1       0.56      0.97      0.71       322\n",
      "\n",
      "    accuracy                           0.56       581\n",
      "   macro avg       0.57      0.51      0.40       581\n",
      "weighted avg       0.56      0.56      0.43       581\n",
      "\n",
      "\n",
      "\n"
     ]
    },
    {
     "data": {
      "image/png": "[encoded data removed]",
      "text/plain": [
       "<Figure size 432x288 with 1 Axes>"
      ]
     },
     "metadata": {
      "needs_background": "light"
     },
     "output_type": "display_data"
    },
    {
     "name": "stdout",
     "output_type": "stream",
     "text": [
      "\n",
      "\n",
      "=== Mean AUC Score on CV===\n",
      "Mean AUC Score:  0.5715521035284649\n",
      "\n",
      "\n",
      "=== Mean f1 Score on CV===\n",
      "Mean f1 Score:  0.7044145758166448\n",
      "\n",
      "\n",
      "=== Training and tesing accuracy===\n",
      "Training accuracy:  0.5522834275623323\n",
      "Testing accuracy:  0.5593803786574871\n"
     ]
    }
   ],
   "source": [
    "print(\"=== Confusion Matrix on test===\")\n",
    "print(confusion_matrix(y_test, y_pred))\n",
    "print('\\n')\n",
    "print(\"=== Classification Report on test===\")\n",
    "print(classification_report(y_test, y_pred))\n",
    "print('\\n')\n",
    "\n",
    "\n",
    "rfc_cv_score = cross_val_score(rfc, X_train, y_train, cv=10, scoring='roc_auc')\n",
    "rfc_cv_score1 = cross_val_score(rfc, X_train, y_train, cv=10, scoring='f1')\n",
    "lr_cv_score2 = cross_val_score(rfc, X_train, y_train, cv=10)\n",
    "\n",
    "\n",
    "\n",
    "from sklearn.metrics import roc_auc_score\n",
    "from sklearn.metrics import roc_curve\n",
    "logit_roc_auc = roc_auc_score(y_test, rfc.predict(X_test))\n",
    "fpr, tpr, thresholds = roc_curve(y_test, rfc.predict_proba(X_test)[:,1])\n",
    "plt.figure()\n",
    "plt.plot(fpr, tpr, label='Random forest classifier (area = %0.2f)' % logit_roc_auc)\n",
    "plt.plot([0, 1], [0, 1],'r--')\n",
    "plt.xlim([0.0, 1.0])\n",
    "plt.ylim([0.0, 1.05])\n",
    "plt.xlabel('False Positive Rate')\n",
    "plt.ylabel('True Positive Rate')\n",
    "plt.title('Receiver operating characteristic(ROC) on test set')\n",
    "plt.legend(loc=\"lower right\")\n",
    "plt.savefig('Log_ROC')\n",
    "plt.show()\n",
    "\n",
    "\n",
    "print('\\n')\n",
    "print(\"=== Mean AUC Score on CV===\")\n",
    "print(\"Mean AUC Score: \", rfc_cv_score.mean())\n",
    "\n",
    "print('\\n')\n",
    "print(\"=== Mean f1 Score on CV===\")\n",
    "print(\"Mean f1 Score: \", rfc_cv_score1.mean())\n",
    "\n",
    "print('\\n')\n",
    "print(\"=== Training and tesing accuracy===\")\n",
    "print(\"Training accuracy: \", lr_cv_score2.mean())\n",
    "print(\"Testing accuracy: \", accuracy_score(y_test, y_pred))"
   ]
  },
  {
   "cell_type": "markdown",
   "metadata": {},
   "source": [
    "### 2.2 Gradient Boosting Classifier"
   ]
  },
  {
   "cell_type": "markdown",
   "metadata": {},
   "source": [
    "The winner is original label encoded data:\n",
    "* Training accuracy:  0.5441625930216193\n",
    "* Testing accuracy:  0.5903614457831325"
   ]
  },
  {
   "cell_type": "markdown",
   "metadata": {},
   "source": [
    "#### 2.2.0 Gradient Boosting Classifier + LE\n",
    "* Training accuracy:  0.5549885509571106\n",
    "* Testing accuracy:  0.5628227194492255"
   ]
  },
  {
   "cell_type": "code",
   "execution_count": 80,
   "metadata": {},
   "outputs": [],
   "source": [
    "from sklearn import model_selection\n",
    "from sklearn.ensemble import GradientBoostingClassifier\n",
    "\n",
    "X = j1_le.drop(['loyal_customer'], axis=1)\n",
    "y = j1_le[['loyal_customer']]\n",
    "\n",
    "X_train, X_test, y_train, y_test = train_test_split(X, y, test_size = 0.125, random_state=0)\n",
    "\n"
   ]
  },
  {
   "cell_type": "code",
   "execution_count": 79,
   "metadata": {},
   "outputs": [
    {
     "data": {
      "text/plain": [
       "GradientBoostingClassifier(criterion='friedman_mse', init=None,\n",
       "                           learning_rate=0.1, loss='deviance', max_depth=3,\n",
       "                           max_features=None, max_leaf_nodes=None,\n",
       "                           min_impurity_decrease=0.0, min_impurity_split=None,\n",
       "                           min_samples_leaf=1, min_samples_split=2,\n",
       "                           min_weight_fraction_leaf=0.0, n_estimators=100,\n",
       "                           n_iter_no_change=None, presort='auto',\n",
       "                           random_state=0, subsample=1.0, tol=0.0001,\n",
       "                           validation_fraction=0.1, verbose=0,\n",
       "                           warm_start=False)"
      ]
     },
     "execution_count": 79,
     "metadata": {},
     "output_type": "execute_result"
    }
   ],
   "source": [
    "gbc = GradientBoostingClassifier(random_state=0)\n",
    "\n",
    "gbc.fit(X_train,y_train)"
   ]
  },
  {
   "cell_type": "code",
   "execution_count": 62,
   "metadata": {},
   "outputs": [],
   "source": [
    "y_pred = gbc.predict(X_test)"
   ]
  },
  {
   "cell_type": "code",
   "execution_count": 63,
   "metadata": {
    "scrolled": false
   },
   "outputs": [
    {
     "name": "stdout",
     "output_type": "stream",
     "text": [
      "=== Confusion Matrix on test===\n",
      "[[ 76 183]\n",
      " [ 71 251]]\n",
      "\n",
      "\n",
      "=== Classification Report on test===\n",
      "              precision    recall  f1-score   support\n",
      "\n",
      "           0       0.52      0.29      0.37       259\n",
      "           1       0.58      0.78      0.66       322\n",
      "\n",
      "    accuracy                           0.56       581\n",
      "   macro avg       0.55      0.54      0.52       581\n",
      "weighted avg       0.55      0.56      0.53       581\n",
      "\n",
      "\n",
      "\n"
     ]
    },
    {
     "data": {
      "image/png": "[encoded data removed]",
      "text/plain": [
       "<Figure size 432x288 with 1 Axes>"
      ]
     },
     "metadata": {
      "needs_background": "light"
     },
     "output_type": "display_data"
    },
    {
     "name": "stdout",
     "output_type": "stream",
     "text": [
      "\n",
      "\n",
      "=== Mean AUC Score on CV===\n",
      "Mean AUC Score:  0.5485083991789935\n",
      "\n",
      "\n",
      "=== Mean f1 Score on CV===\n",
      "Mean f1 Score:  0.662543232173357\n",
      "\n",
      "\n",
      "=== Training and tesing accuracy===\n",
      "Training accuracy:  0.5549885509571106\n",
      "Testing accuracy:  0.5628227194492255\n"
     ]
    }
   ],
   "source": [
    "print(\"=== Confusion Matrix on test===\")\n",
    "print(confusion_matrix(y_test, y_pred))\n",
    "print('\\n')\n",
    "print(\"=== Classification Report on test===\")\n",
    "print(classification_report(y_test, y_pred))\n",
    "print('\\n')\n",
    "\n",
    "\n",
    "cv_score = cross_val_score(gbc, X_train, y_train, cv=10, scoring='roc_auc')\n",
    "cv_score1 = cross_val_score(gbc, X_train, y_train, cv=10, scoring='f1')\n",
    "cv_score2 = cross_val_score(gbc, X_train, y_train, cv=10)\n",
    "\n",
    "\n",
    "\n",
    "from sklearn.metrics import roc_auc_score\n",
    "from sklearn.metrics import roc_curve\n",
    "logit_roc_auc = roc_auc_score(y_test, gbc.predict(X_test))\n",
    "fpr, tpr, thresholds = roc_curve(y_test, gbc.predict_proba(X_test)[:,1])\n",
    "plt.figure()\n",
    "plt.plot(fpr, tpr, label='Gradient Boosting classifier (area = %0.2f)' % logit_roc_auc)\n",
    "plt.plot([0, 1], [0, 1],'r--')\n",
    "plt.xlim([0.0, 1.0])\n",
    "plt.ylim([0.0, 1.05])\n",
    "plt.xlabel('False Positive Rate')\n",
    "plt.ylabel('True Positive Rate')\n",
    "plt.title('Receiver operating characteristic(ROC) on test set')\n",
    "plt.legend(loc=\"lower right\")\n",
    "plt.savefig('Log_ROC')\n",
    "plt.show()\n",
    "\n",
    "\n",
    "print('\\n')\n",
    "print(\"=== Mean AUC Score on CV===\")\n",
    "print(\"Mean AUC Score: \", cv_score.mean())\n",
    "\n",
    "print('\\n')\n",
    "print(\"=== Mean f1 Score on CV===\")\n",
    "print(\"Mean f1 Score: \", cv_score1.mean())\n",
    "\n",
    "print('\\n')\n",
    "print(\"=== Training and tesing accuracy===\")\n",
    "print(\"Training accuracy: \", cv_score2.mean())\n",
    "print(\"Testing accuracy: \", accuracy_score(y_test, y_pred))"
   ]
  },
  {
   "cell_type": "code",
   "execution_count": 64,
   "metadata": {},
   "outputs": [
    {
     "data": {
      "text/plain": [
       "<Figure size 1080x576 with 0 Axes>"
      ]
     },
     "metadata": {},
     "output_type": "display_data"
    },
    {
     "data": {
      "image/png": "[encoded data removed]",
      "text/plain": [
       "<Figure size 432x288 with 1 Axes>"
      ]
     },
     "metadata": {
      "needs_background": "light"
     },
     "output_type": "display_data"
    }
   ],
   "source": [
    "importances = gbc.feature_importances_\n",
    "\n",
    "fig = plt.gcf();\n",
    "fig.set_size_inches(15,8);\n",
    "\n",
    "# Sort feature importances in descending order\n",
    "indices = (np.argsort(importances)[::-1])[:10];\n",
    "\n",
    "# Rearrange feature names so they match the sorted feature importances\n",
    "names = [X.columns[i] for i in indices];\n",
    "\n",
    "# Create plot\n",
    "plt.figure();\n",
    "\n",
    "# Create plot title\n",
    "plt.title(\"Feature Importance\");\n",
    "\n",
    "# Add bars\n",
    "plt.bar(range(0, 10), importances[indices]);\n",
    "\n",
    "# Add feature names as x-axis labels\n",
    "plt.xticks(range(0, 10), names[:10], rotation=90);\n",
    "\n",
    "# Show plot\n",
    "plt.show();"
   ]
  },
  {
   "cell_type": "markdown",
   "metadata": {},
   "source": [
    "#### 2.2.1 Gradient Boost + LE + GRID\n",
    "* Training accuracy:  0.5601519049541361\n",
    "* Testing accuracy:  0.5989672977624785"
   ]
  },
  {
   "cell_type": "code",
   "execution_count": 65,
   "metadata": {},
   "outputs": [
    {
     "data": {
      "text/plain": [
       "GradientBoostingClassifier(criterion='friedman_mse', init=None,\n",
       "                           learning_rate=0.1, loss='deviance', max_depth=1.0,\n",
       "                           max_features='sqrt', max_leaf_nodes=None,\n",
       "                           min_impurity_decrease=0.0, min_impurity_split=None,\n",
       "                           min_samples_leaf=0.1, min_samples_split=0.1,\n",
       "                           min_weight_fraction_leaf=0.0, n_estimators=200,\n",
       "                           n_iter_no_change=None, presort='auto',\n",
       "                           random_state=0, subsample=1.0, tol=0.0001,\n",
       "                           validation_fraction=0.1, verbose=0,\n",
       "                           warm_start=False)"
      ]
     },
     "execution_count": 65,
     "metadata": {},
     "output_type": "execute_result"
    }
   ],
   "source": [
    "param_grid = {'learning_rate': [1, 0.5, 0.1, 0.01],'max_depth': np.linspace(1, 32, 4, endpoint=True),\\\n",
    "            'min_samples_leaf' : np.linspace(0.1, 0.5, 5, endpoint=True),'min_samples_split': np.linspace(0.1, 1.0, 5, endpoint=True),\\\n",
    "              'n_estimators': [100, 200], \"max_features\":['auto','sqrt','log2'],'random_state':[0]}\n",
    "\n",
    "grid = GridSearchCV(gbc, param_grid, verbose=0, scoring='accuracy')\n",
    "\n",
    "grid.fit(X_train, y_train)\n",
    "\n",
    "grid.best_estimator_"
   ]
  },
  {
   "cell_type": "code",
   "execution_count": 81,
   "metadata": {},
   "outputs": [
    {
     "data": {
      "text/plain": [
       "GradientBoostingClassifier(criterion='friedman_mse', init=None,\n",
       "                           learning_rate=0.1, loss='deviance', max_depth=1.0,\n",
       "                           max_features='sqrt', max_leaf_nodes=None,\n",
       "                           min_impurity_decrease=0.0, min_impurity_split=None,\n",
       "                           min_samples_leaf=0.1, min_samples_split=0.1,\n",
       "                           min_weight_fraction_leaf=0.0, n_estimators=200,\n",
       "                           n_iter_no_change=None, presort='auto',\n",
       "                           random_state=0, subsample=1.0, tol=0.0001,\n",
       "                           validation_fraction=0.1, verbose=0,\n",
       "                           warm_start=False)"
      ]
     },
     "execution_count": 81,
     "metadata": {},
     "output_type": "execute_result"
    }
   ],
   "source": [
    "gbc = GradientBoostingClassifier(criterion='friedman_mse', init=None,\n",
    "                           learning_rate=0.1, loss='deviance', max_depth=1.0,\n",
    "                           max_features='sqrt', max_leaf_nodes=None,\n",
    "                           min_impurity_decrease=0.0, min_impurity_split=None,\n",
    "                           min_samples_leaf=0.1, min_samples_split=0.1,\n",
    "                           min_weight_fraction_leaf=0.0, n_estimators=200,\n",
    "                           n_iter_no_change=None, presort='auto',\n",
    "                           random_state=0, subsample=1.0, tol=0.0001,\n",
    "                           validation_fraction=0.1, verbose=0,\n",
    "                           warm_start=False)\n",
    "\n",
    "gbc.fit(X_train,y_train)"
   ]
  },
  {
   "cell_type": "code",
   "execution_count": 82,
   "metadata": {},
   "outputs": [],
   "source": [
    "y_pred = gbc.predict(X_test)"
   ]
  },
  {
   "cell_type": "code",
   "execution_count": 83,
   "metadata": {
    "scrolled": false
   },
   "outputs": [
    {
     "name": "stdout",
     "output_type": "stream",
     "text": [
      "=== Confusion Matrix on test===\n",
      "[[ 63 196]\n",
      " [ 37 285]]\n",
      "\n",
      "\n",
      "=== Classification Report on test===\n",
      "              precision    recall  f1-score   support\n",
      "\n",
      "           0       0.63      0.24      0.35       259\n",
      "           1       0.59      0.89      0.71       322\n",
      "\n",
      "    accuracy                           0.60       581\n",
      "   macro avg       0.61      0.56      0.53       581\n",
      "weighted avg       0.61      0.60      0.55       581\n",
      "\n",
      "\n",
      "\n"
     ]
    },
    {
     "data": {
      "image/png": "[encoded data removed]",
      "text/plain": [
       "<Figure size 432x288 with 1 Axes>"
      ]
     },
     "metadata": {
      "needs_background": "light"
     },
     "output_type": "display_data"
    },
    {
     "name": "stdout",
     "output_type": "stream",
     "text": [
      "\n",
      "\n",
      "=== Mean AUC Score on CV===\n",
      "Mean AUC Score:  0.5370141751950885\n",
      "\n",
      "\n",
      "=== Mean f1 Score on CV===\n",
      "Mean f1 Score:  0.6855547898176784\n",
      "\n",
      "\n",
      "=== Training and tesing accuracy===\n",
      "Training accuracy:  0.5601519049541361\n",
      "Testing accuracy:  0.5989672977624785\n"
     ]
    }
   ],
   "source": [
    "print(\"=== Confusion Matrix on test===\")\n",
    "print(confusion_matrix(y_test, y_pred))\n",
    "print('\\n')\n",
    "print(\"=== Classification Report on test===\")\n",
    "print(classification_report(y_test, y_pred))\n",
    "print('\\n')\n",
    "\n",
    "\n",
    "cv_score = cross_val_score(gbc, X_train, y_train, cv=10, scoring='roc_auc')\n",
    "cv_score1 = cross_val_score(gbc, X_train, y_train, cv=10, scoring='f1')\n",
    "cv_score2 = cross_val_score(gbc, X_train, y_train, cv=10)\n",
    "\n",
    "\n",
    "\n",
    "from sklearn.metrics import roc_auc_score\n",
    "from sklearn.metrics import roc_curve\n",
    "logit_roc_auc = roc_auc_score(y_test, gbc.predict(X_test))\n",
    "fpr, tpr, thresholds = roc_curve(y_test, gbc.predict_proba(X_test)[:,1])\n",
    "plt.figure()\n",
    "plt.plot(fpr, tpr, label='Gradient Boosting classifier (area = %0.2f)' % logit_roc_auc)\n",
    "plt.plot([0, 1], [0, 1],'r--')\n",
    "plt.xlim([0.0, 1.0])\n",
    "plt.ylim([0.0, 1.05])\n",
    "plt.xlabel('False Positive Rate')\n",
    "plt.ylabel('True Positive Rate')\n",
    "plt.title('Receiver operating characteristic(ROC) on test set')\n",
    "plt.legend(loc=\"lower right\")\n",
    "plt.savefig('Log_ROC')\n",
    "plt.show()\n",
    "\n",
    "\n",
    "print('\\n')\n",
    "print(\"=== Mean AUC Score on CV===\")\n",
    "print(\"Mean AUC Score: \", cv_score.mean())\n",
    "\n",
    "print('\\n')\n",
    "print(\"=== Mean f1 Score on CV===\")\n",
    "print(\"Mean f1 Score: \", cv_score1.mean())\n",
    "\n",
    "print('\\n')\n",
    "print(\"=== Training and tesing accuracy===\")\n",
    "print(\"Training accuracy: \", cv_score2.mean())\n",
    "print(\"Testing accuracy: \", accuracy_score(y_test, y_pred))"
   ]
  },
  {
   "cell_type": "code",
   "execution_count": 84,
   "metadata": {},
   "outputs": [
    {
     "data": {
      "text/plain": [
       "<Figure size 1080x576 with 0 Axes>"
      ]
     },
     "metadata": {},
     "output_type": "display_data"
    },
    {
     "data": {
      "image/png": "[encoded data removed]",
      "text/plain": [
       "<Figure size 432x288 with 1 Axes>"
      ]
     },
     "metadata": {
      "needs_background": "light"
     },
     "output_type": "display_data"
    }
   ],
   "source": [
    "importances = gbc.feature_importances_\n",
    "\n",
    "fig = plt.gcf();\n",
    "fig.set_size_inches(15,8);\n",
    "\n",
    "# Sort feature importances in descending order\n",
    "indices = (np.argsort(importances)[::-1])[:10];\n",
    "\n",
    "# Rearrange feature names so they match the sorted feature importances\n",
    "names = [X.columns[i] for i in indices];\n",
    "\n",
    "# Create plot\n",
    "plt.figure();\n",
    "\n",
    "# Create plot title\n",
    "plt.title(\"Feature Importance\");\n",
    "\n",
    "# Add bars\n",
    "plt.bar(range(0, 10), importances[indices]);\n",
    "\n",
    "# Add feature names as x-axis labels\n",
    "plt.xticks(range(0, 10), names[:10], rotation=90);\n",
    "\n",
    "# Show plot\n",
    "plt.show();"
   ]
  },
  {
   "cell_type": "markdown",
   "metadata": {},
   "source": [
    "#### 2.2.2 Gradient Boost + OHE \n",
    "* Training accuracy:  0.565079220708024\n",
    "* Testing accuracy:  0.5989672977624785"
   ]
  },
  {
   "cell_type": "code",
   "execution_count": 70,
   "metadata": {},
   "outputs": [],
   "source": [
    "X = j1_ohe.drop(['loyal_customer'], axis=1)\n",
    "y = j1_ohe[['loyal_customer']]\n",
    "\n",
    "X_train, X_test, y_train, y_test = train_test_split(X, y, test_size = 0.125, random_state=0)\n",
    "\n"
   ]
  },
  {
   "cell_type": "code",
   "execution_count": 71,
   "metadata": {},
   "outputs": [
    {
     "data": {
      "text/plain": [
       "GradientBoostingClassifier(criterion='friedman_mse', init=None,\n",
       "                           learning_rate=0.1, loss='deviance', max_depth=3,\n",
       "                           max_features=None, max_leaf_nodes=None,\n",
       "                           min_impurity_decrease=0.0, min_impurity_split=None,\n",
       "                           min_samples_leaf=1, min_samples_split=2,\n",
       "                           min_weight_fraction_leaf=0.0, n_estimators=100,\n",
       "                           n_iter_no_change=None, presort='auto',\n",
       "                           random_state=0, subsample=1.0, tol=0.0001,\n",
       "                           validation_fraction=0.1, verbose=0,\n",
       "                           warm_start=False)"
      ]
     },
     "execution_count": 71,
     "metadata": {},
     "output_type": "execute_result"
    }
   ],
   "source": [
    "gbc = GradientBoostingClassifier(random_state=0)\n",
    "\n",
    "gbc.fit(X_train,y_train)"
   ]
  },
  {
   "cell_type": "code",
   "execution_count": 72,
   "metadata": {},
   "outputs": [],
   "source": [
    "y_pred = gbc.predict(X_test)"
   ]
  },
  {
   "cell_type": "code",
   "execution_count": 73,
   "metadata": {},
   "outputs": [
    {
     "name": "stdout",
     "output_type": "stream",
     "text": [
      "=== Confusion Matrix on test===\n",
      "[[ 73 186]\n",
      " [ 47 275]]\n",
      "\n",
      "\n",
      "=== Classification Report on test===\n",
      "              precision    recall  f1-score   support\n",
      "\n",
      "           0       0.61      0.28      0.39       259\n",
      "           1       0.60      0.85      0.70       322\n",
      "\n",
      "    accuracy                           0.60       581\n",
      "   macro avg       0.60      0.57      0.54       581\n",
      "weighted avg       0.60      0.60      0.56       581\n",
      "\n",
      "\n",
      "\n"
     ]
    },
    {
     "data": {
      "image/png": "[encoded data removed]",
      "text/plain": [
       "<Figure size 432x288 with 1 Axes>"
      ]
     },
     "metadata": {
      "needs_background": "light"
     },
     "output_type": "display_data"
    },
    {
     "name": "stdout",
     "output_type": "stream",
     "text": [
      "\n",
      "\n",
      "=== Mean AUC Score on CV===\n",
      "Mean AUC Score:  0.5655452292606127\n",
      "\n",
      "\n",
      "=== Mean f1 Score on CV===\n",
      "Mean f1 Score:  0.6857411324581368\n",
      "\n",
      "\n",
      "=== Training and tesing accuracy===\n",
      "Training accuracy:  0.565079220708024\n",
      "Testing accuracy:  0.5989672977624785\n"
     ]
    }
   ],
   "source": [
    "print(\"=== Confusion Matrix on test===\")\n",
    "print(confusion_matrix(y_test, y_pred))\n",
    "print('\\n')\n",
    "print(\"=== Classification Report on test===\")\n",
    "print(classification_report(y_test, y_pred))\n",
    "print('\\n')\n",
    "\n",
    "\n",
    "cv_score = cross_val_score(gbc, X_train, y_train, cv=10, scoring='roc_auc')\n",
    "cv_score1 = cross_val_score(gbc, X_train, y_train, cv=10, scoring='f1')\n",
    "cv_score2 = cross_val_score(gbc, X_train, y_train, cv=10)\n",
    "\n",
    "\n",
    "\n",
    "from sklearn.metrics import roc_auc_score\n",
    "from sklearn.metrics import roc_curve\n",
    "logit_roc_auc = roc_auc_score(y_test, gbc.predict(X_test))\n",
    "fpr, tpr, thresholds = roc_curve(y_test, gbc.predict_proba(X_test)[:,1])\n",
    "plt.figure()\n",
    "plt.plot(fpr, tpr, label='Gradient Boosting classifier (area = %0.2f)' % logit_roc_auc)\n",
    "plt.plot([0, 1], [0, 1],'r--')\n",
    "plt.xlim([0.0, 1.0])\n",
    "plt.ylim([0.0, 1.05])\n",
    "plt.xlabel('False Positive Rate')\n",
    "plt.ylabel('True Positive Rate')\n",
    "plt.title('Receiver operating characteristic(ROC) on test set')\n",
    "plt.legend(loc=\"lower right\")\n",
    "plt.savefig('Log_ROC')\n",
    "plt.show()\n",
    "\n",
    "\n",
    "print('\\n')\n",
    "print(\"=== Mean AUC Score on CV===\")\n",
    "print(\"Mean AUC Score: \", cv_score.mean())\n",
    "\n",
    "print('\\n')\n",
    "print(\"=== Mean f1 Score on CV===\")\n",
    "print(\"Mean f1 Score: \", cv_score1.mean())\n",
    "\n",
    "print('\\n')\n",
    "print(\"=== Training and tesing accuracy===\")\n",
    "print(\"Training accuracy: \", cv_score2.mean())\n",
    "print(\"Testing accuracy: \", accuracy_score(y_test, y_pred))"
   ]
  },
  {
   "cell_type": "markdown",
   "metadata": {},
   "source": [
    "#### 2.2.3 Gradient Boost + OHE + GRID\n",
    "* Training accuracy:  0.5534998520292639\n",
    "* Testing accuracy:  0.5611015490533563"
   ]
  },
  {
   "cell_type": "code",
   "execution_count": 74,
   "metadata": {},
   "outputs": [
    {
     "data": {
      "text/plain": [
       "GradientBoostingClassifier(criterion='friedman_mse', init=None,\n",
       "                           learning_rate=0.01, loss='deviance',\n",
       "                           max_depth=11.333333333333334, max_features='auto',\n",
       "                           max_leaf_nodes=None, min_impurity_decrease=0.0,\n",
       "                           min_impurity_split=None, min_samples_leaf=0.1,\n",
       "                           min_samples_split=0.55, min_weight_fraction_leaf=0.0,\n",
       "                           n_estimators=200, n_iter_no_change=None,\n",
       "                           presort='auto', random_state=0, subsample=1.0,\n",
       "                           tol=0.0001, validation_fraction=0.1, verbose=0,\n",
       "                           warm_start=False)"
      ]
     },
     "execution_count": 74,
     "metadata": {},
     "output_type": "execute_result"
    }
   ],
   "source": [
    "param_grid = {'learning_rate': [1, 0.5, 0.1, 0.01],'max_depth': np.linspace(1, 32, 4, endpoint=True),\\\n",
    "            'min_samples_leaf' : np.linspace(0.1, 0.5, 5, endpoint=True),'min_samples_split': np.linspace(0.1, 1.0, 5, endpoint=True),\\\n",
    "              'n_estimators': [100, 200], \"max_features\":['auto','sqrt','log2'],'random_state':[0]}\n",
    "\n",
    "grid = GridSearchCV(gbc, param_grid, verbose=0, scoring='accuracy')\n",
    "\n",
    "grid.fit(X_train, y_train)\n",
    "\n",
    "grid.best_estimator_"
   ]
  },
  {
   "cell_type": "code",
   "execution_count": 75,
   "metadata": {},
   "outputs": [
    {
     "data": {
      "text/plain": [
       "GradientBoostingClassifier(criterion='friedman_mse', init=None,\n",
       "                           learning_rate=0.01, loss='deviance',\n",
       "                           max_depth=11.333333333333334, max_features='auto',\n",
       "                           max_leaf_nodes=None, min_impurity_decrease=0.0,\n",
       "                           min_impurity_split=None, min_samples_leaf=0.1,\n",
       "                           min_samples_split=0.55, min_weight_fraction_leaf=0.0,\n",
       "                           n_estimators=200, n_iter_no_change=None,\n",
       "                           presort='auto', random_state=0, subsample=1.0,\n",
       "                           tol=0.0001, validation_fraction=0.1, verbose=0,\n",
       "                           warm_start=False)"
      ]
     },
     "execution_count": 75,
     "metadata": {},
     "output_type": "execute_result"
    }
   ],
   "source": [
    "gbc = GradientBoostingClassifier(criterion='friedman_mse', init=None,\n",
    "                           learning_rate=0.01, loss='deviance',\n",
    "                           max_depth=11.333333333333334, max_features='auto',\n",
    "                           max_leaf_nodes=None, min_impurity_decrease=0.0,\n",
    "                           min_impurity_split=None, min_samples_leaf=0.1,\n",
    "                           min_samples_split=0.55, min_weight_fraction_leaf=0.0,\n",
    "                           n_estimators=200, n_iter_no_change=None,\n",
    "                           presort='auto', random_state=0, subsample=1.0,\n",
    "                           tol=0.0001, validation_fraction=0.1, verbose=0,\n",
    "                           warm_start=False)\n",
    "\n",
    "gbc.fit(X_train,y_train)"
   ]
  },
  {
   "cell_type": "code",
   "execution_count": 76,
   "metadata": {},
   "outputs": [],
   "source": [
    "y_pred = gbc.predict(X_test)"
   ]
  },
  {
   "cell_type": "code",
   "execution_count": 77,
   "metadata": {},
   "outputs": [
    {
     "name": "stdout",
     "output_type": "stream",
     "text": [
      "=== Confusion Matrix on test===\n",
      "[[  6 253]\n",
      " [  2 320]]\n",
      "\n",
      "\n",
      "=== Classification Report on test===\n",
      "              precision    recall  f1-score   support\n",
      "\n",
      "           0       0.75      0.02      0.04       259\n",
      "           1       0.56      0.99      0.72       322\n",
      "\n",
      "    accuracy                           0.56       581\n",
      "   macro avg       0.65      0.51      0.38       581\n",
      "weighted avg       0.64      0.56      0.42       581\n",
      "\n",
      "\n",
      "\n"
     ]
    },
    {
     "data": {
      "image/png": "[encoded data removed]",
      "text/plain": [
       "<Figure size 432x288 with 1 Axes>"
      ]
     },
     "metadata": {
      "needs_background": "light"
     },
     "output_type": "display_data"
    },
    {
     "name": "stdout",
     "output_type": "stream",
     "text": [
      "\n",
      "\n",
      "=== Mean AUC Score on CV===\n",
      "Mean AUC Score:  0.5243804228395856\n",
      "\n",
      "\n",
      "=== Mean f1 Score on CV===\n",
      "Mean f1 Score:  0.7075482929589254\n",
      "\n",
      "\n",
      "=== Training and tesing accuracy===\n",
      "Training accuracy:  0.5534998520292639\n",
      "Testing accuracy:  0.5611015490533563\n"
     ]
    }
   ],
   "source": [
    "print(\"=== Confusion Matrix on test===\")\n",
    "print(confusion_matrix(y_test, y_pred))\n",
    "print('\\n')\n",
    "print(\"=== Classification Report on test===\")\n",
    "print(classification_report(y_test, y_pred))\n",
    "print('\\n')\n",
    "\n",
    "\n",
    "cv_score = cross_val_score(gbc, X_train, y_train, cv=10, scoring='roc_auc')\n",
    "cv_score1 = cross_val_score(gbc, X_train, y_train, cv=10, scoring='f1')\n",
    "cv_score2 = cross_val_score(gbc, X_train, y_train, cv=10)\n",
    "\n",
    "\n",
    "\n",
    "from sklearn.metrics import roc_auc_score\n",
    "from sklearn.metrics import roc_curve\n",
    "logit_roc_auc = roc_auc_score(y_test, gbc.predict(X_test))\n",
    "fpr, tpr, thresholds = roc_curve(y_test, gbc.predict_proba(X_test)[:,1])\n",
    "plt.figure()\n",
    "plt.plot(fpr, tpr, label='Gradient Boosting classifier (area = %0.2f)' % logit_roc_auc)\n",
    "plt.plot([0, 1], [0, 1],'r--')\n",
    "plt.xlim([0.0, 1.0])\n",
    "plt.ylim([0.0, 1.05])\n",
    "plt.xlabel('False Positive Rate')\n",
    "plt.ylabel('True Positive Rate')\n",
    "plt.title('Receiver operating characteristic(ROC) on test set')\n",
    "plt.legend(loc=\"lower right\")\n",
    "plt.savefig('Log_ROC')\n",
    "plt.show()\n",
    "\n",
    "\n",
    "print('\\n')\n",
    "print(\"=== Mean AUC Score on CV===\")\n",
    "print(\"Mean AUC Score: \", cv_score.mean())\n",
    "\n",
    "print('\\n')\n",
    "print(\"=== Mean f1 Score on CV===\")\n",
    "print(\"Mean f1 Score: \", cv_score1.mean())\n",
    "\n",
    "print('\\n')\n",
    "print(\"=== Training and tesing accuracy===\")\n",
    "print(\"Training accuracy: \", cv_score2.mean())\n",
    "print(\"Testing accuracy: \", accuracy_score(y_test, y_pred))"
   ]
  },
  {
   "cell_type": "markdown",
   "metadata": {},
   "source": [
    "### 1.2.3 Cat Boost Classifier"
   ]
  },
  {
   "cell_type": "markdown",
   "metadata": {},
   "source": [
    "Winner: CatBoost + OHE \n",
    "* Training accuracy:  0.5635977808898701\n",
    "* Testing accuracy:  0.6024096385542169"
   ]
  },
  {
   "cell_type": "markdown",
   "metadata": {},
   "source": [
    "### 1.2.3.0 CatBoost + LE\n",
    "* Training accuracy:  0.5535107095451923\n",
    "* Testing accuracy:  0.5817555938037866"
   ]
  },
  {
   "cell_type": "code",
   "execution_count": 92,
   "metadata": {},
   "outputs": [],
   "source": [
    "from catboost import Pool, CatBoostClassifier\n",
    "\n",
    "X = j1_le.drop(['loyal_customer'], axis=1)\n",
    "y = j1_le[['loyal_customer']]\n",
    "\n",
    "X_train, X_test, y_train, y_test = train_test_split(X, y, test_size = 0.125, random_state=0)\n"
   ]
  },
  {
   "cell_type": "code",
   "execution_count": 93,
   "metadata": {},
   "outputs": [
    {
     "data": {
      "text/plain": [
       "<catboost.core.CatBoostClassifier at 0x7fdd7b43f470>"
      ]
     },
     "execution_count": 93,
     "metadata": {},
     "output_type": "execute_result"
    }
   ],
   "source": [
    "cbc = CatBoostClassifier(random_state=0, silent=True)\n",
    "\n",
    "cbc.fit(X_train,y_train)"
   ]
  },
  {
   "cell_type": "code",
   "execution_count": 94,
   "metadata": {},
   "outputs": [],
   "source": [
    "y_pred = cbc.predict(X_test)"
   ]
  },
  {
   "cell_type": "code",
   "execution_count": 95,
   "metadata": {
    "scrolled": false
   },
   "outputs": [
    {
     "name": "stdout",
     "output_type": "stream",
     "text": [
      "=== Confusion Matrix on test===\n",
      "[[ 87 172]\n",
      " [ 71 251]]\n",
      "\n",
      "\n",
      "=== Classification Report on test===\n",
      "              precision    recall  f1-score   support\n",
      "\n",
      "           0       0.55      0.34      0.42       259\n",
      "           1       0.59      0.78      0.67       322\n",
      "\n",
      "    accuracy                           0.58       581\n",
      "   macro avg       0.57      0.56      0.55       581\n",
      "weighted avg       0.57      0.58      0.56       581\n",
      "\n",
      "\n",
      "\n"
     ]
    },
    {
     "data": {
      "image/png": "[encoded data removed]",
      "text/plain": [
       "<Figure size 432x288 with 1 Axes>"
      ]
     },
     "metadata": {
      "needs_background": "light"
     },
     "output_type": "display_data"
    },
    {
     "name": "stdout",
     "output_type": "stream",
     "text": [
      "\n",
      "\n",
      "=== Mean AUC Score on CV===\n",
      "Mean AUC Score:  0.5431410957580454\n",
      "\n",
      "\n",
      "=== Mean f1 Score on CV===\n",
      "Mean f1 Score:  0.6615200765415564\n",
      "\n",
      "\n",
      "=== Training and tesing accuracy===\n",
      "Training accuracy:  0.5535107095451923\n",
      "Testing accuracy:  0.5817555938037866\n"
     ]
    }
   ],
   "source": [
    "print(\"=== Confusion Matrix on test===\")\n",
    "print(confusion_matrix(y_test, y_pred))\n",
    "print('\\n')\n",
    "print(\"=== Classification Report on test===\")\n",
    "print(classification_report(y_test, y_pred))\n",
    "print('\\n')\n",
    "\n",
    "\n",
    "cv_score = cross_val_score(cbc, X_train, y_train, cv=10, scoring='roc_auc')\n",
    "cv_score1 = cross_val_score(cbc, X_train, y_train, cv=10, scoring='f1')\n",
    "cv_score2 = cross_val_score(cbc, X_train, y_train, cv=10)\n",
    "\n",
    "\n",
    "\n",
    "from sklearn.metrics import roc_auc_score\n",
    "from sklearn.metrics import roc_curve\n",
    "logit_roc_auc = roc_auc_score(y_test, cbc.predict(X_test))\n",
    "fpr, tpr, thresholds = roc_curve(y_test, cbc.predict_proba(X_test)[:,1])\n",
    "plt.figure()\n",
    "plt.plot(fpr, tpr, label='Cat Boosting classifier (area = %0.2f)' % logit_roc_auc)\n",
    "plt.plot([0, 1], [0, 1],'r--')\n",
    "plt.xlim([0.0, 1.0])\n",
    "plt.ylim([0.0, 1.05])\n",
    "plt.xlabel('False Positive Rate')\n",
    "plt.ylabel('True Positive Rate')\n",
    "plt.title('Receiver operating characteristic(ROC) on test set')\n",
    "plt.legend(loc=\"lower right\")\n",
    "plt.savefig('Log_ROC')\n",
    "plt.show()\n",
    "\n",
    "\n",
    "print('\\n')\n",
    "print(\"=== Mean AUC Score on CV===\")\n",
    "print(\"Mean AUC Score: \", cv_score.mean())\n",
    "\n",
    "print('\\n')\n",
    "print(\"=== Mean f1 Score on CV===\")\n",
    "print(\"Mean f1 Score: \", cv_score1.mean())\n",
    "\n",
    "print('\\n')\n",
    "print(\"=== Training and tesing accuracy===\")\n",
    "print(\"Training accuracy: \", cv_score2.mean())\n",
    "print(\"Testing accuracy: \", accuracy_score(y_test, y_pred))"
   ]
  },
  {
   "cell_type": "markdown",
   "metadata": {},
   "source": [
    "### 1.2.3.1 CatBoost + LE + Grid search\n",
    "* Training accuracy:  0.5682709269423265\n",
    "* Testing accuracy:  0.576592082616179\n"
   ]
  },
  {
   "cell_type": "code",
   "execution_count": 96,
   "metadata": {},
   "outputs": [
    {
     "data": {
      "text/plain": [
       "<catboost.core.CatBoostClassifier at 0x7fdd7b52cc50>"
      ]
     },
     "execution_count": 96,
     "metadata": {},
     "output_type": "execute_result"
    }
   ],
   "source": [
    "param_grid = {'learning_rate': [1, 0.5, 0.1, 0.01],\\\n",
    "              'n_estimators': [100, 200],'depth': [4, 6, 10], 'l2_leaf_reg': [1, 3, 5, 7, 9],'random_state':[0], 'silent':[True]}\n",
    "\n",
    "grid = GridSearchCV(cbc, param_grid, verbose=0, scoring='accuracy')\n",
    "\n",
    "grid.fit(X_train, y_train)\n",
    "\n",
    "grid.best_estimator_"
   ]
  },
  {
   "cell_type": "code",
   "execution_count": 97,
   "metadata": {},
   "outputs": [
    {
     "data": {
      "text/plain": [
       "{'depth': 4,\n",
       " 'l2_leaf_reg': 9,\n",
       " 'learning_rate': 0.1,\n",
       " 'n_estimators': 100,\n",
       " 'random_state': 0,\n",
       " 'silent': True}"
      ]
     },
     "execution_count": 97,
     "metadata": {},
     "output_type": "execute_result"
    }
   ],
   "source": [
    "grid.best_params_"
   ]
  },
  {
   "cell_type": "code",
   "execution_count": 98,
   "metadata": {},
   "outputs": [
    {
     "data": {
      "text/plain": [
       "<catboost.core.CatBoostClassifier at 0x7fdd7c471eb8>"
      ]
     },
     "execution_count": 98,
     "metadata": {},
     "output_type": "execute_result"
    }
   ],
   "source": [
    "cbc = CatBoostClassifier(depth=4,\n",
    " l2_leaf_reg=9,\n",
    " learning_rate=0.1,\n",
    " n_estimators=100,\n",
    " random_state=0,\n",
    " silent=True)\n",
    "\n",
    "cbc.fit(X_train,y_train)"
   ]
  },
  {
   "cell_type": "code",
   "execution_count": 99,
   "metadata": {},
   "outputs": [],
   "source": [
    "y_pred = cbc.predict(X_test)"
   ]
  },
  {
   "cell_type": "code",
   "execution_count": 100,
   "metadata": {
    "scrolled": false
   },
   "outputs": [
    {
     "name": "stdout",
     "output_type": "stream",
     "text": [
      "=== Confusion Matrix on test===\n",
      "[[ 56 203]\n",
      " [ 43 279]]\n",
      "\n",
      "\n",
      "=== Classification Report on test===\n",
      "              precision    recall  f1-score   support\n",
      "\n",
      "           0       0.57      0.22      0.31       259\n",
      "           1       0.58      0.87      0.69       322\n",
      "\n",
      "    accuracy                           0.58       581\n",
      "   macro avg       0.57      0.54      0.50       581\n",
      "weighted avg       0.57      0.58      0.52       581\n",
      "\n",
      "\n",
      "\n"
     ]
    },
    {
     "data": {
      "image/png": "[encoded data removed]",
      "text/plain": [
       "<Figure size 432x288 with 1 Axes>"
      ]
     },
     "metadata": {
      "needs_background": "light"
     },
     "output_type": "display_data"
    },
    {
     "name": "stdout",
     "output_type": "stream",
     "text": [
      "\n",
      "\n",
      "=== Mean AUC Score on CV===\n",
      "Mean AUC Score:  0.5469792397623194\n",
      "\n",
      "\n",
      "=== Mean f1 Score on CV===\n",
      "Mean f1 Score:  0.6916085640384658\n",
      "\n",
      "\n",
      "=== Training and tesing accuracy===\n",
      "Training accuracy:  0.5682709269423265\n",
      "Testing accuracy:  0.576592082616179\n"
     ]
    }
   ],
   "source": [
    "print(\"=== Confusion Matrix on test===\")\n",
    "print(confusion_matrix(y_test, y_pred))\n",
    "print('\\n')\n",
    "print(\"=== Classification Report on test===\")\n",
    "print(classification_report(y_test, y_pred))\n",
    "print('\\n')\n",
    "\n",
    "\n",
    "cv_score = cross_val_score(cbc, X_train, y_train, cv=10, scoring='roc_auc')\n",
    "cv_score1 = cross_val_score(cbc, X_train, y_train, cv=10, scoring='f1')\n",
    "cv_score2 = cross_val_score(cbc, X_train, y_train, cv=10)\n",
    "\n",
    "\n",
    "\n",
    "from sklearn.metrics import roc_auc_score\n",
    "from sklearn.metrics import roc_curve\n",
    "logit_roc_auc = roc_auc_score(y_test, cbc.predict(X_test))\n",
    "fpr, tpr, thresholds = roc_curve(y_test, cbc.predict_proba(X_test)[:,1])\n",
    "plt.figure()\n",
    "plt.plot(fpr, tpr, label='Cat Boosting classifier (area = %0.2f)' % logit_roc_auc)\n",
    "plt.plot([0, 1], [0, 1],'r--')\n",
    "plt.xlim([0.0, 1.0])\n",
    "plt.ylim([0.0, 1.05])\n",
    "plt.xlabel('False Positive Rate')\n",
    "plt.ylabel('True Positive Rate')\n",
    "plt.title('Receiver operating characteristic(ROC) on test set')\n",
    "plt.legend(loc=\"lower right\")\n",
    "plt.savefig('Log_ROC')\n",
    "plt.show()\n",
    "\n",
    "\n",
    "print('\\n')\n",
    "print(\"=== Mean AUC Score on CV===\")\n",
    "print(\"Mean AUC Score: \", cv_score.mean())\n",
    "\n",
    "print('\\n')\n",
    "print(\"=== Mean f1 Score on CV===\")\n",
    "print(\"Mean f1 Score: \", cv_score1.mean())\n",
    "\n",
    "print('\\n')\n",
    "print(\"=== Training and tesing accuracy===\")\n",
    "print(\"Training accuracy: \", cv_score2.mean())\n",
    "print(\"Testing accuracy: \", accuracy_score(y_test, y_pred))"
   ]
  },
  {
   "cell_type": "markdown",
   "metadata": {},
   "source": [
    "### 1.2.3.2 CatBoost + OHE \n",
    "Training accuracy:  0.5635977808898701\n",
    "Testing accuracy:  0.6024096385542169"
   ]
  },
  {
   "cell_type": "code",
   "execution_count": 101,
   "metadata": {},
   "outputs": [],
   "source": [
    "X = j1_ohe.drop(['loyal_customer'], axis=1)\n",
    "y = j1_ohe[['loyal_customer']]\n",
    "\n",
    "X_train, X_test, y_train, y_test = train_test_split(X, y, test_size = 0.125, random_state=0)\n"
   ]
  },
  {
   "cell_type": "code",
   "execution_count": 102,
   "metadata": {},
   "outputs": [
    {
     "data": {
      "text/plain": [
       "<catboost.core.CatBoostClassifier at 0x7fdd7b43feb8>"
      ]
     },
     "execution_count": 102,
     "metadata": {},
     "output_type": "execute_result"
    }
   ],
   "source": [
    "cbc = CatBoostClassifier(random_state=0, silent=True)\n",
    "\n",
    "cbc.fit(X_train,y_train)"
   ]
  },
  {
   "cell_type": "code",
   "execution_count": 103,
   "metadata": {},
   "outputs": [],
   "source": [
    "y_pred = cbc.predict(X_test)"
   ]
  },
  {
   "cell_type": "code",
   "execution_count": null,
   "metadata": {},
   "outputs": [
    {
     "name": "stdout",
     "output_type": "stream",
     "text": [
      "=== Confusion Matrix on test===\n",
      "[[ 95 164]\n",
      " [ 62 260]]\n",
      "\n",
      "\n",
      "=== Classification Report on test===\n",
      "              precision    recall  f1-score   support\n",
      "\n",
      "           0       0.61      0.37      0.46       259\n",
      "           1       0.61      0.81      0.70       322\n",
      "\n",
      "    accuracy                           0.61       581\n",
      "   macro avg       0.61      0.59      0.58       581\n",
      "weighted avg       0.61      0.61      0.59       581\n",
      "\n",
      "\n",
      "\n"
     ]
    }
   ],
   "source": [
    "print(\"=== Confusion Matrix on test===\")\n",
    "print(confusion_matrix(y_test, y_pred))\n",
    "print('\\n')\n",
    "print(\"=== Classification Report on test===\")\n",
    "print(classification_report(y_test, y_pred))\n",
    "print('\\n')\n",
    "\n",
    "\n",
    "cv_score = cross_val_score(cbc, X_train, y_train, cv=10, scoring='roc_auc')\n",
    "cv_score1 = cross_val_score(cbc, X_train, y_train, cv=10, scoring='f1')\n",
    "cv_score2 = cross_val_score(cbc, X_train, y_train, cv=10)\n",
    "\n",
    "\n",
    "\n",
    "from sklearn.metrics import roc_auc_score\n",
    "from sklearn.metrics import roc_curve\n",
    "logit_roc_auc = roc_auc_score(y_test, cbc.predict(X_test))\n",
    "fpr, tpr, thresholds = roc_curve(y_test, cbc.predict_proba(X_test)[:,1])\n",
    "plt.figure()\n",
    "plt.plot(fpr, tpr, label='Cat Boosting classifier (area = %0.2f)' % logit_roc_auc)\n",
    "plt.plot([0, 1], [0, 1],'r--')\n",
    "plt.xlim([0.0, 1.0])\n",
    "plt.ylim([0.0, 1.05])\n",
    "plt.xlabel('False Positive Rate')\n",
    "plt.ylabel('True Positive Rate')\n",
    "plt.title('Receiver operating characteristic(ROC) on test set')\n",
    "plt.legend(loc=\"lower right\")\n",
    "plt.savefig('Log_ROC')\n",
    "plt.show()\n",
    "\n",
    "\n",
    "print('\\n')\n",
    "print(\"=== Mean AUC Score on CV===\")\n",
    "print(\"Mean AUC Score: \", cv_score.mean())\n",
    "\n",
    "print('\\n')\n",
    "print(\"=== Mean f1 Score on CV===\")\n",
    "print(\"Mean f1 Score: \", cv_score1.mean())\n",
    "\n",
    "print('\\n')\n",
    "print(\"=== Training and tesing accuracy===\")\n",
    "print(\"Training accuracy: \", cv_score2.mean())\n",
    "print(\"Testing accuracy: \", accuracy_score(y_test, y_pred))"
   ]
  },
  {
   "cell_type": "markdown",
   "metadata": {},
   "source": [
    "### 1.2.3.3 CatBoost + OHE + Grid search\n",
    "* Training accuracy:  0.5493374275067986\n",
    "* Testing accuracy:  0.5817555938037866"
   ]
  },
  {
   "cell_type": "code",
   "execution_count": 117,
   "metadata": {},
   "outputs": [
    {
     "data": {
      "text/plain": [
       "{'depth': 4,\n",
       " 'l2_leaf_reg': 7,\n",
       " 'learning_rate': 0.1,\n",
       " 'n_estimators': 200,\n",
       " 'random_state': 0,\n",
       " 'silent': True}"
      ]
     },
     "execution_count": 117,
     "metadata": {},
     "output_type": "execute_result"
    }
   ],
   "source": [
    "param_grid = {'learning_rate': [1, 0.5, 0.1, 0.01],\\\n",
    "              'n_estimators': [100, 200],'depth': [4, 6, 10], 'l2_leaf_reg': [1, 3, 5, 7, 9],'random_state':[0], 'silent':[True]}\n",
    "\n",
    "grid = GridSearchCV(cbc, param_grid, verbose=0, scoring='accuracy')\n",
    "\n",
    "grid.fit(X_train, y_train)\n",
    "\n",
    "grid.best_params_"
   ]
  },
  {
   "cell_type": "code",
   "execution_count": 118,
   "metadata": {},
   "outputs": [
    {
     "data": {
      "text/plain": [
       "<catboost.core.CatBoostClassifier at 0x7f8c97ec43c8>"
      ]
     },
     "execution_count": 118,
     "metadata": {},
     "output_type": "execute_result"
    }
   ],
   "source": [
    "cbc = CatBoostClassifier(depth=4,\n",
    " l2_leaf_reg=7,\n",
    " learning_rate=0.1,\n",
    " n_estimators=200,\n",
    " random_state=0,\n",
    " silent=True)\n",
    "\n",
    "cbc.fit(X_train,y_train)"
   ]
  },
  {
   "cell_type": "code",
   "execution_count": 119,
   "metadata": {},
   "outputs": [],
   "source": [
    "y_pred = cbc.predict(X_test)"
   ]
  },
  {
   "cell_type": "code",
   "execution_count": 120,
   "metadata": {},
   "outputs": [
    {
     "name": "stdout",
     "output_type": "stream",
     "text": [
      "=== Confusion Matrix on test===\n",
      "[[ 83 176]\n",
      " [ 67 255]]\n",
      "\n",
      "\n",
      "=== Classification Report on test===\n",
      "              precision    recall  f1-score   support\n",
      "\n",
      "           0       0.55      0.32      0.41       259\n",
      "           1       0.59      0.79      0.68       322\n",
      "\n",
      "    accuracy                           0.58       581\n",
      "   macro avg       0.57      0.56      0.54       581\n",
      "weighted avg       0.57      0.58      0.56       581\n",
      "\n",
      "\n",
      "\n"
     ]
    },
    {
     "data": {
      "image/png": "[encoded data removed]",
      "text/plain": [
       "<Figure size 432x288 with 1 Axes>"
      ]
     },
     "metadata": {
      "needs_background": "light"
     },
     "output_type": "display_data"
    },
    {
     "name": "stdout",
     "output_type": "stream",
     "text": [
      "\n",
      "\n",
      "=== Mean AUC Score on CV===\n",
      "Mean AUC Score:  0.5439543080087577\n",
      "\n",
      "\n",
      "=== Mean f1 Score on CV===\n",
      "Mean f1 Score:  0.6529587743353036\n",
      "\n",
      "\n",
      "=== Training and tesing accuracy===\n",
      "Training accuracy:  0.5493374275067986\n",
      "Testing accuracy:  0.5817555938037866\n"
     ]
    }
   ],
   "source": [
    "print(\"=== Confusion Matrix on test===\")\n",
    "print(confusion_matrix(y_test, y_pred))\n",
    "print('\\n')\n",
    "print(\"=== Classification Report on test===\")\n",
    "print(classification_report(y_test, y_pred))\n",
    "print('\\n')\n",
    "\n",
    "\n",
    "cv_score = cross_val_score(cbc, X_train, y_train, cv=10, scoring='roc_auc')\n",
    "cv_score1 = cross_val_score(cbc, X_train, y_train, cv=10, scoring='f1')\n",
    "cv_score2 = cross_val_score(cbc, X_train, y_train, cv=10)\n",
    "\n",
    "\n",
    "\n",
    "from sklearn.metrics import roc_auc_score\n",
    "from sklearn.metrics import roc_curve\n",
    "logit_roc_auc = roc_auc_score(y_test, cbc.predict(X_test))\n",
    "fpr, tpr, thresholds = roc_curve(y_test, cbc.predict_proba(X_test)[:,1])\n",
    "plt.figure()\n",
    "plt.plot(fpr, tpr, label='Cat Boosting classifier (area = %0.2f)' % logit_roc_auc)\n",
    "plt.plot([0, 1], [0, 1],'r--')\n",
    "plt.xlim([0.0, 1.0])\n",
    "plt.ylim([0.0, 1.05])\n",
    "plt.xlabel('False Positive Rate')\n",
    "plt.ylabel('True Positive Rate')\n",
    "plt.title('Receiver operating characteristic(ROC) on test set')\n",
    "plt.legend(loc=\"lower right\")\n",
    "plt.savefig('Log_ROC')\n",
    "plt.show()\n",
    "\n",
    "\n",
    "print('\\n')\n",
    "print(\"=== Mean AUC Score on CV===\")\n",
    "print(\"Mean AUC Score: \", cv_score.mean())\n",
    "\n",
    "print('\\n')\n",
    "print(\"=== Mean f1 Score on CV===\")\n",
    "print(\"Mean f1 Score: \", cv_score1.mean())\n",
    "\n",
    "print('\\n')\n",
    "print(\"=== Training and tesing accuracy===\")\n",
    "print(\"Training accuracy: \", cv_score2.mean())\n",
    "print(\"Testing accuracy: \", accuracy_score(y_test, y_pred))"
   ]
  },
  {
   "cell_type": "markdown",
   "metadata": {},
   "source": [
    "### 2.4 XGBOOST"
   ]
  },
  {
   "cell_type": "markdown",
   "metadata": {},
   "source": [
    "### 2.4.0 XGBOOST + LE\n",
    "* Training accuracy:  0.5549825051599899\n",
    "* Testing accuracy:  0.5869191049913941"
   ]
  },
  {
   "cell_type": "code",
   "execution_count": 87,
   "metadata": {},
   "outputs": [],
   "source": [
    "import xgboost as xgb\n",
    "from xgboost import XGBClassifier\n",
    "\n",
    "\n",
    "\n",
    "X = j1_le.drop(['loyal_customer'], axis=1)\n",
    "y = j1_le[['loyal_customer']]\n",
    "\n",
    "X_train, X_test, y_train, y_test = train_test_split(X, y, test_size = 0.125, random_state=0)\n",
    "\n"
   ]
  },
  {
   "cell_type": "code",
   "execution_count": 88,
   "metadata": {},
   "outputs": [
    {
     "data": {
      "text/plain": [
       "XGBClassifier(base_score=0.5, booster='gbtree', colsample_bylevel=1,\n",
       "              colsample_bynode=1, colsample_bytree=1, gamma=0,\n",
       "              learning_rate=0.1, max_delta_step=0, max_depth=3,\n",
       "              min_child_weight=1, missing=None, n_estimators=100, n_jobs=1,\n",
       "              nthread=None, objective='binary:logistic', random_state=0,\n",
       "              reg_alpha=0, reg_lambda=1, scale_pos_weight=1, seed=None,\n",
       "              silent=None, subsample=1, verbosity=1)"
      ]
     },
     "execution_count": 88,
     "metadata": {},
     "output_type": "execute_result"
    }
   ],
   "source": [
    "xgb = xgb.XGBClassifier()\n",
    "xgb.fit(X_train,y_train)"
   ]
  },
  {
   "cell_type": "code",
   "execution_count": 89,
   "metadata": {},
   "outputs": [],
   "source": [
    "y_pred = xgb.predict(X_test)"
   ]
  },
  {
   "cell_type": "code",
   "execution_count": 90,
   "metadata": {},
   "outputs": [
    {
     "name": "stdout",
     "output_type": "stream",
     "text": [
      "=== Confusion Matrix on test===\n",
      "[[ 84 175]\n",
      " [ 65 257]]\n",
      "\n",
      "\n",
      "=== Classification Report on test===\n",
      "              precision    recall  f1-score   support\n",
      "\n",
      "           0       0.56      0.32      0.41       259\n",
      "           1       0.59      0.80      0.68       322\n",
      "\n",
      "    accuracy                           0.59       581\n",
      "   macro avg       0.58      0.56      0.55       581\n",
      "weighted avg       0.58      0.59      0.56       581\n",
      "\n",
      "\n",
      "\n"
     ]
    },
    {
     "data": {
      "image/png": "[encoded data removed]",
      "text/plain": [
       "<Figure size 432x288 with 1 Axes>"
      ]
     },
     "metadata": {
      "needs_background": "light"
     },
     "output_type": "display_data"
    },
    {
     "name": "stdout",
     "output_type": "stream",
     "text": [
      "\n",
      "\n",
      "=== Mean AUC Score on CV===\n",
      "Mean AUC Score:  0.5471511647288873\n",
      "\n",
      "\n",
      "=== Mean f1 Score on CV===\n",
      "Mean f1 Score:  0.6625939158562574\n",
      "\n",
      "\n",
      "=== Training and tesing accuracy===\n",
      "Training accuracy:  0.5549825051599899\n",
      "Testing accuracy:  0.5869191049913941\n"
     ]
    }
   ],
   "source": [
    "print(\"=== Confusion Matrix on test===\")\n",
    "print(confusion_matrix(y_test, y_pred))\n",
    "print('\\n')\n",
    "print(\"=== Classification Report on test===\")\n",
    "print(classification_report(y_test, y_pred))\n",
    "print('\\n')\n",
    "\n",
    "\n",
    "cv_score = cross_val_score(xgb, X_train, y_train, cv=10, scoring='roc_auc')\n",
    "cv_score1 = cross_val_score(xgb, X_train, y_train, cv=10, scoring='f1')\n",
    "cv_score2 = cross_val_score(xgb, X_train, y_train, cv=10)\n",
    "\n",
    "\n",
    "\n",
    "from sklearn.metrics import roc_auc_score\n",
    "from sklearn.metrics import roc_curve\n",
    "logit_roc_auc = roc_auc_score(y_test, xgb.predict(X_test))\n",
    "fpr, tpr, thresholds = roc_curve(y_test, xgb.predict_proba(X_test)[:,1])\n",
    "plt.figure()\n",
    "plt.plot(fpr, tpr, label='XGBoost classifier (area = %0.2f)' % logit_roc_auc)\n",
    "plt.plot([0, 1], [0, 1],'r--')\n",
    "plt.xlim([0.0, 1.0])\n",
    "plt.ylim([0.0, 1.05])\n",
    "plt.xlabel('False Positive Rate')\n",
    "plt.ylabel('True Positive Rate')\n",
    "plt.title('Receiver operating characteristic(ROC) on test set')\n",
    "plt.legend(loc=\"lower right\")\n",
    "plt.savefig('Log_ROC')\n",
    "plt.show()\n",
    "\n",
    "\n",
    "print('\\n')\n",
    "print(\"=== Mean AUC Score on CV===\")\n",
    "print(\"Mean AUC Score: \", cv_score.mean())\n",
    "\n",
    "print('\\n')\n",
    "print(\"=== Mean f1 Score on CV===\")\n",
    "print(\"Mean f1 Score: \", cv_score1.mean())\n",
    "\n",
    "print('\\n')\n",
    "print(\"=== Training and tesing accuracy===\")\n",
    "print(\"Training accuracy: \", cv_score2.mean())\n",
    "print(\"Testing accuracy: \", accuracy_score(y_test, y_pred))"
   ]
  },
  {
   "cell_type": "markdown",
   "metadata": {},
   "source": [
    "### 2.4.1 XGBOOST + LE + Grid"
   ]
  },
  {
   "cell_type": "code",
   "execution_count": null,
   "metadata": {},
   "outputs": [],
   "source": []
  }
 ],
 "metadata": {
  "kernelspec": {
   "display_name": "Python 3",
   "language": "python",
   "name": "python3"
  },
  "language_info": {
   "codemirror_mode": {
    "name": "ipython",
    "version": 3
   },
   "file_extension": ".py",
   "mimetype": "text/x-python",
   "name": "python",
   "nbconvert_exporter": "python",
   "pygments_lexer": "ipython3",
   "version": "3.7.3"
  }
 },
 "nbformat": 4,
 "nbformat_minor": 2
}
